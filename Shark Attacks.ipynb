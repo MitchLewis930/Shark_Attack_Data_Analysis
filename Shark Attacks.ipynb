{
 "cells": [
  {
   "cell_type": "markdown",
   "id": "257a3b83",
   "metadata": {},
   "source": [
    "# Shark Attack Data Analysis\n",
    "\n",
    "The goal of this project is to analyze and visualize information about shark attacks. The dataset contains information regarding recorded shark attacks until 2018 and can be found here: https://www.kaggle.com/datasets/felipeesc/shark-attack-dataset/data\n",
    "\n",
    "This project will visualize the type of shark attacks to see if they are more commonly provoked or unprovoked, and if there is a certain activity that is most likely to result in a shark attack. It will also look at the number of shark attacks over time, and examine which countries have had the most shark attacks. Additionally, since the dataset includes the sex of the shark attack victim, we can examine the data to see if men or women are attacked more often. And finally, we will visualize the number of attacks that have been fatal."
   ]
  },
  {
   "cell_type": "code",
   "execution_count": 1,
   "id": "faf0b231",
   "metadata": {},
   "outputs": [],
   "source": [
    "import pandas as pd\n",
    "import altair as alt\n",
    "\n",
    "#dataset found at https://www.kaggle.com/datasets/felipeesc/shark-attack-dataset/data\n",
    "attacks = pd.read_csv(\"attacks.csv\", encoding = \"ISO-8859-1\")\n",
    "\n",
    "attacks.head()\n",
    "\n",
    "\n",
    "#Color scheme to match fun shark themed slide deck!\n",
    "color_scheme = ['#e9dfd7', '#c3b8af', '#595959', '#423d3e', '#97bfc5', '#799ba0']"
   ]
  },
  {
   "cell_type": "markdown",
   "id": "4dbb2c86",
   "metadata": {},
   "source": [
    "## Data Cleanup"
   ]
  },
  {
   "cell_type": "markdown",
   "id": "421f9aae",
   "metadata": {},
   "source": [
    "Before we can visualize our dat, it needs a bit of cleaning. First up, we will look at Null values, and unnecessary columns. There are several columns that are not necessary for the analysis and visualizations we are looking to achieve, so they can be dropped to make things simpler. \n",
    "\n",
    "For Null values, we are specifically concerned with data where there is no date listed. This data appears to be unreliable, and we can weed out the data where the date is Null."
   ]
  },
  {
   "cell_type": "code",
   "execution_count": 2,
   "id": "61d91bd9",
   "metadata": {},
   "outputs": [
    {
     "data": {
      "text/plain": [
       "Case Number               17021\n",
       "Date                      19421\n",
       "Year                      19423\n",
       "Type                      19425\n",
       "Country                   19471\n",
       "Area                      19876\n",
       "Location                  19961\n",
       "Activity                  19965\n",
       "Name                      19631\n",
       "Sex                       19986\n",
       "Age                       22252\n",
       "Injury                    19449\n",
       "Fatal (Y/N)               19960\n",
       "Time                      22775\n",
       "Species                   22259\n",
       "Investigator or Source    19438\n",
       "pdf                       19421\n",
       "href formula              19422\n",
       "href                      19421\n",
       "Case Number.1             19421\n",
       "Case Number.2             19421\n",
       "original order            19414\n",
       "Unnamed: 22               25722\n",
       "Unnamed: 23               25721\n",
       "dtype: int64"
      ]
     },
     "execution_count": 2,
     "metadata": {},
     "output_type": "execute_result"
    }
   ],
   "source": [
    "attacks.isna().sum()"
   ]
  },
  {
   "cell_type": "code",
   "execution_count": 3,
   "id": "c49b483f",
   "metadata": {},
   "outputs": [],
   "source": [
    "attacks = attacks.drop(['pdf', 'href formula', 'href', 'Case Number.1', 'Case Number.2', 'original order', 'Unnamed: 22', 'Unnamed: 23'], axis = 1)"
   ]
  },
  {
   "cell_type": "code",
   "execution_count": 4,
   "id": "6f16bc34",
   "metadata": {},
   "outputs": [],
   "source": [
    "attacks = attacks[~ attacks['Date'].isna()]"
   ]
  },
  {
   "cell_type": "code",
   "execution_count": 5,
   "id": "e71cb53e",
   "metadata": {},
   "outputs": [
    {
     "data": {
      "text/plain": [
       "Case Number                  1\n",
       "Date                         0\n",
       "Year                         2\n",
       "Type                         4\n",
       "Country                     50\n",
       "Area                       455\n",
       "Location                   540\n",
       "Activity                   544\n",
       "Name                       210\n",
       "Sex                        565\n",
       "Age                       2831\n",
       "Injury                      28\n",
       "Fatal (Y/N)                539\n",
       "Time                      3354\n",
       "Species                   2838\n",
       "Investigator or Source      17\n",
       "dtype: int64"
      ]
     },
     "execution_count": 5,
     "metadata": {},
     "output_type": "execute_result"
    }
   ],
   "source": [
    "attacks.isna().sum()"
   ]
  },
  {
   "cell_type": "raw",
   "id": "4683d74f",
   "metadata": {},
   "source": [
    "For the remaining data, if a date is listed but Year is NaN, we can use the date data to fill it in."
   ]
  },
  {
   "cell_type": "code",
   "execution_count": 6,
   "id": "44bdb23f",
   "metadata": {},
   "outputs": [
    {
     "data": {
      "text/html": [
       "<div>\n",
       "<style scoped>\n",
       "    .dataframe tbody tr th:only-of-type {\n",
       "        vertical-align: middle;\n",
       "    }\n",
       "\n",
       "    .dataframe tbody tr th {\n",
       "        vertical-align: top;\n",
       "    }\n",
       "\n",
       "    .dataframe thead th {\n",
       "        text-align: right;\n",
       "    }\n",
       "</style>\n",
       "<table border=\"1\" class=\"dataframe\">\n",
       "  <thead>\n",
       "    <tr style=\"text-align: right;\">\n",
       "      <th></th>\n",
       "      <th>Case Number</th>\n",
       "      <th>Date</th>\n",
       "      <th>Year</th>\n",
       "      <th>Type</th>\n",
       "      <th>Country</th>\n",
       "      <th>Area</th>\n",
       "      <th>Location</th>\n",
       "      <th>Activity</th>\n",
       "      <th>Name</th>\n",
       "      <th>Sex</th>\n",
       "      <th>Age</th>\n",
       "      <th>Injury</th>\n",
       "      <th>Fatal (Y/N)</th>\n",
       "      <th>Time</th>\n",
       "      <th>Species</th>\n",
       "      <th>Investigator or Source</th>\n",
       "    </tr>\n",
       "  </thead>\n",
       "  <tbody>\n",
       "    <tr>\n",
       "      <th>187</th>\n",
       "      <td>2017.01.08.R</td>\n",
       "      <td>Reported 08-Jan-2017</td>\n",
       "      <td>NaN</td>\n",
       "      <td>Invalid</td>\n",
       "      <td>AUSTRALIA</td>\n",
       "      <td>Queensland</td>\n",
       "      <td>NaN</td>\n",
       "      <td>Spearfishing</td>\n",
       "      <td>Kerry Daniel</td>\n",
       "      <td>M</td>\n",
       "      <td>35</td>\n",
       "      <td>No attack, shark made a threat display</td>\n",
       "      <td>NaN</td>\n",
       "      <td>NaN</td>\n",
       "      <td>Bull shark</td>\n",
       "      <td>Liquid Vision 1/8/2017</td>\n",
       "    </tr>\n",
       "    <tr>\n",
       "      <th>6079</th>\n",
       "      <td>1836.08.19.R</td>\n",
       "      <td>Reported 19-Aug-1836</td>\n",
       "      <td>NaN</td>\n",
       "      <td>Unprovoked</td>\n",
       "      <td>ENGLAND</td>\n",
       "      <td>Cumberland</td>\n",
       "      <td>Whitehaven</td>\n",
       "      <td>Swimming</td>\n",
       "      <td>a boy</td>\n",
       "      <td>M</td>\n",
       "      <td>NaN</td>\n",
       "      <td>FATAL</td>\n",
       "      <td>Y</td>\n",
       "      <td>NaN</td>\n",
       "      <td>NaN</td>\n",
       "      <td>C. Moore, GSAF</td>\n",
       "    </tr>\n",
       "  </tbody>\n",
       "</table>\n",
       "</div>"
      ],
      "text/plain": [
       "       Case Number                  Date  Year        Type    Country  \\\n",
       "187   2017.01.08.R  Reported 08-Jan-2017   NaN     Invalid  AUSTRALIA   \n",
       "6079  1836.08.19.R  Reported 19-Aug-1836   NaN  Unprovoked    ENGLAND   \n",
       "\n",
       "            Area    Location      Activity          Name Sex   Age  \\\n",
       "187   Queensland         NaN  Spearfishing  Kerry Daniel    M   35   \n",
       "6079  Cumberland  Whitehaven      Swimming         a boy    M  NaN   \n",
       "\n",
       "                                      Injury Fatal (Y/N) Time    Species   \\\n",
       "187   No attack, shark made a threat display         NaN  NaN  Bull shark   \n",
       "6079                                   FATAL           Y  NaN         NaN   \n",
       "\n",
       "      Investigator or Source  \n",
       "187   Liquid Vision 1/8/2017  \n",
       "6079          C. Moore, GSAF  "
      ]
     },
     "execution_count": 6,
     "metadata": {},
     "output_type": "execute_result"
    }
   ],
   "source": [
    "attacks[attacks['Year'].isna()]"
   ]
  },
  {
   "cell_type": "code",
   "execution_count": 7,
   "id": "550afdd4",
   "metadata": {},
   "outputs": [],
   "source": [
    "attacks.loc[187, 'Year'] = 2017"
   ]
  },
  {
   "cell_type": "code",
   "execution_count": 8,
   "id": "1071a1e3",
   "metadata": {},
   "outputs": [
    {
     "data": {
      "text/plain": [
       "2017.0"
      ]
     },
     "execution_count": 8,
     "metadata": {},
     "output_type": "execute_result"
    }
   ],
   "source": [
    "attacks.loc[187, 'Year']"
   ]
  },
  {
   "cell_type": "code",
   "execution_count": 9,
   "id": "a735bb37",
   "metadata": {},
   "outputs": [],
   "source": [
    "attacks.loc[6079, 'Year'] = 1836"
   ]
  },
  {
   "cell_type": "code",
   "execution_count": 10,
   "id": "23c003ba",
   "metadata": {},
   "outputs": [
    {
     "data": {
      "text/plain": [
       "count    6302.000000\n",
       "mean     1927.272136\n",
       "std       281.076315\n",
       "min         0.000000\n",
       "25%      1942.000000\n",
       "50%      1977.000000\n",
       "75%      2005.000000\n",
       "max      2018.000000\n",
       "Name: Year, dtype: float64"
      ]
     },
     "execution_count": 10,
     "metadata": {},
     "output_type": "execute_result"
    }
   ],
   "source": [
    "attacks['Year'].describe()"
   ]
  },
  {
   "cell_type": "markdown",
   "id": "8962dec8",
   "metadata": {},
   "source": [
    "The data here goes back into the 1800s, but we are mostly interested in more current data, so we will only look at the data from 1900 on. We also need to convert the Year column to be stored as datetime."
   ]
  },
  {
   "cell_type": "code",
   "execution_count": 11,
   "id": "21974240",
   "metadata": {},
   "outputs": [
    {
     "data": {
      "text/plain": [
       "0      2018-01-01\n",
       "1      2018-01-01\n",
       "2      2018-01-01\n",
       "3      2018-01-01\n",
       "4      2018-01-01\n",
       "          ...    \n",
       "5559   1900-01-01\n",
       "5560   1900-01-01\n",
       "5561   1900-01-01\n",
       "5562   1900-01-01\n",
       "5563   1900-01-01\n",
       "Name: Year, Length: 5563, dtype: datetime64[ns]"
      ]
     },
     "execution_count": 11,
     "metadata": {},
     "output_type": "execute_result"
    }
   ],
   "source": [
    "attacks = attacks[attacks['Year']>=1900]\n",
    "pd.to_datetime(attacks['Year'], format='%Y')\n"
   ]
  },
  {
   "cell_type": "code",
   "execution_count": 12,
   "id": "b20469be",
   "metadata": {},
   "outputs": [
    {
     "data": {
      "text/plain": [
       "count    5563.000000\n",
       "mean     1978.763437\n",
       "std        31.502432\n",
       "min      1900.000000\n",
       "25%      1958.000000\n",
       "50%      1987.000000\n",
       "75%      2007.000000\n",
       "max      2018.000000\n",
       "Name: Year, dtype: float64"
      ]
     },
     "execution_count": 12,
     "metadata": {},
     "output_type": "execute_result"
    }
   ],
   "source": [
    "attacks['Year'].describe()"
   ]
  },
  {
   "cell_type": "markdown",
   "id": "c2b91ac1",
   "metadata": {},
   "source": [
    "## Shark Attack Types\n",
    "\n",
    "The data contains information on the type of shark attack. This data can be examined to give some understanding of the causes behind shark attacks, including whether they are typically provoked or unprovoked.\n",
    "\n",
    "The first step will require a bit more data cleanup to consolidate the listed attack types, and then we can create a visualization to see which attack types are most frequent."
   ]
  },
  {
   "cell_type": "code",
   "execution_count": 13,
   "id": "816902fd",
   "metadata": {},
   "outputs": [
    {
     "data": {
      "text/plain": [
       "Unprovoked      4044\n",
       "Provoked         539\n",
       "Invalid          477\n",
       "Sea Disaster     186\n",
       "Boating          181\n",
       "Boat             130\n",
       "NaN                3\n",
       "Questionable       2\n",
       "Boatomg            1\n",
       "Name: Type, dtype: int64"
      ]
     },
     "execution_count": 13,
     "metadata": {},
     "output_type": "execute_result"
    }
   ],
   "source": [
    "attacks['Type'].value_counts(dropna = False)"
   ]
  },
  {
   "cell_type": "code",
   "execution_count": 14,
   "id": "526110a3",
   "metadata": {},
   "outputs": [],
   "source": [
    "attacks['Type'].replace('Questionable', 'Unknown', inplace = True)\n",
    "attacks['Type'].fillna('Unknown', inplace = True)\n",
    "attacks['Type'].replace(['Boat', 'Boatomg'], 'Boating', inplace = True)\n",
    "\n",
    "attacks = attacks[attacks['Type'] != 'Invalid']"
   ]
  },
  {
   "cell_type": "code",
   "execution_count": 15,
   "id": "671a27a4",
   "metadata": {},
   "outputs": [
    {
     "data": {
      "text/plain": [
       "Unprovoked      4044\n",
       "Provoked         539\n",
       "Boating          312\n",
       "Sea Disaster     186\n",
       "Unknown            5\n",
       "Name: Type, dtype: int64"
      ]
     },
     "execution_count": 15,
     "metadata": {},
     "output_type": "execute_result"
    }
   ],
   "source": [
    "attacks['Type'].value_counts(dropna = False)"
   ]
  },
  {
   "cell_type": "code",
   "execution_count": 16,
   "id": "17447423",
   "metadata": {},
   "outputs": [
    {
     "data": {
      "text/html": [
       "<div>\n",
       "<style scoped>\n",
       "    .dataframe tbody tr th:only-of-type {\n",
       "        vertical-align: middle;\n",
       "    }\n",
       "\n",
       "    .dataframe tbody tr th {\n",
       "        vertical-align: top;\n",
       "    }\n",
       "\n",
       "    .dataframe thead th {\n",
       "        text-align: right;\n",
       "    }\n",
       "</style>\n",
       "<table border=\"1\" class=\"dataframe\">\n",
       "  <thead>\n",
       "    <tr style=\"text-align: right;\">\n",
       "      <th></th>\n",
       "      <th>Type</th>\n",
       "      <th>counts</th>\n",
       "    </tr>\n",
       "  </thead>\n",
       "  <tbody>\n",
       "    <tr>\n",
       "      <th>0</th>\n",
       "      <td>Boating</td>\n",
       "      <td>312</td>\n",
       "    </tr>\n",
       "    <tr>\n",
       "      <th>1</th>\n",
       "      <td>Provoked</td>\n",
       "      <td>539</td>\n",
       "    </tr>\n",
       "    <tr>\n",
       "      <th>2</th>\n",
       "      <td>Sea Disaster</td>\n",
       "      <td>186</td>\n",
       "    </tr>\n",
       "    <tr>\n",
       "      <th>3</th>\n",
       "      <td>Unknown</td>\n",
       "      <td>5</td>\n",
       "    </tr>\n",
       "    <tr>\n",
       "      <th>4</th>\n",
       "      <td>Unprovoked</td>\n",
       "      <td>4044</td>\n",
       "    </tr>\n",
       "  </tbody>\n",
       "</table>\n",
       "</div>"
      ],
      "text/plain": [
       "           Type  counts\n",
       "0       Boating     312\n",
       "1      Provoked     539\n",
       "2  Sea Disaster     186\n",
       "3       Unknown       5\n",
       "4    Unprovoked    4044"
      ]
     },
     "execution_count": 16,
     "metadata": {},
     "output_type": "execute_result"
    }
   ],
   "source": [
    "attack_types = attacks.groupby('Type')['Type'].count().reset_index(name = 'counts')\n",
    "attack_types.head()"
   ]
  },
  {
   "cell_type": "code",
   "execution_count": 17,
   "id": "4c43c1bd",
   "metadata": {},
   "outputs": [
    {
     "data": {
      "text/html": [
       "\n",
       "<style>\n",
       "  #altair-viz-49cc68df4fef4741a4c1540e7d4b577d.vega-embed {\n",
       "    width: 100%;\n",
       "    display: flex;\n",
       "  }\n",
       "\n",
       "  #altair-viz-49cc68df4fef4741a4c1540e7d4b577d.vega-embed details,\n",
       "  #altair-viz-49cc68df4fef4741a4c1540e7d4b577d.vega-embed details summary {\n",
       "    position: relative;\n",
       "  }\n",
       "</style>\n",
       "<div id=\"altair-viz-49cc68df4fef4741a4c1540e7d4b577d\"></div>\n",
       "<script type=\"text/javascript\">\n",
       "  var VEGA_DEBUG = (typeof VEGA_DEBUG == \"undefined\") ? {} : VEGA_DEBUG;\n",
       "  (function(spec, embedOpt){\n",
       "    let outputDiv = document.currentScript.previousElementSibling;\n",
       "    if (outputDiv.id !== \"altair-viz-49cc68df4fef4741a4c1540e7d4b577d\") {\n",
       "      outputDiv = document.getElementById(\"altair-viz-49cc68df4fef4741a4c1540e7d4b577d\");\n",
       "    }\n",
       "    const paths = {\n",
       "      \"vega\": \"https://cdn.jsdelivr.net/npm/vega@5?noext\",\n",
       "      \"vega-lib\": \"https://cdn.jsdelivr.net/npm/vega-lib?noext\",\n",
       "      \"vega-lite\": \"https://cdn.jsdelivr.net/npm/vega-lite@5.14.1?noext\",\n",
       "      \"vega-embed\": \"https://cdn.jsdelivr.net/npm/vega-embed@6?noext\",\n",
       "    };\n",
       "\n",
       "    function maybeLoadScript(lib, version) {\n",
       "      var key = `${lib.replace(\"-\", \"\")}_version`;\n",
       "      return (VEGA_DEBUG[key] == version) ?\n",
       "        Promise.resolve(paths[lib]) :\n",
       "        new Promise(function(resolve, reject) {\n",
       "          var s = document.createElement('script');\n",
       "          document.getElementsByTagName(\"head\")[0].appendChild(s);\n",
       "          s.async = true;\n",
       "          s.onload = () => {\n",
       "            VEGA_DEBUG[key] = version;\n",
       "            return resolve(paths[lib]);\n",
       "          };\n",
       "          s.onerror = () => reject(`Error loading script: ${paths[lib]}`);\n",
       "          s.src = paths[lib];\n",
       "        });\n",
       "    }\n",
       "\n",
       "    function showError(err) {\n",
       "      outputDiv.innerHTML = `<div class=\"error\" style=\"color:red;\">${err}</div>`;\n",
       "      throw err;\n",
       "    }\n",
       "\n",
       "    function displayChart(vegaEmbed) {\n",
       "      vegaEmbed(outputDiv, spec, embedOpt)\n",
       "        .catch(err => showError(`Javascript Error: ${err.message}<br>This usually means there's a typo in your chart specification. See the javascript console for the full traceback.`));\n",
       "    }\n",
       "\n",
       "    if(typeof define === \"function\" && define.amd) {\n",
       "      requirejs.config({paths});\n",
       "      require([\"vega-embed\"], displayChart, err => showError(`Error loading script: ${err.message}`));\n",
       "    } else {\n",
       "      maybeLoadScript(\"vega\", \"5\")\n",
       "        .then(() => maybeLoadScript(\"vega-lite\", \"5.14.1\"))\n",
       "        .then(() => maybeLoadScript(\"vega-embed\", \"6\"))\n",
       "        .catch(showError)\n",
       "        .then(() => displayChart(vegaEmbed));\n",
       "    }\n",
       "  })({\"config\": {\"view\": {\"continuousWidth\": 300, \"continuousHeight\": 300}, \"range\": {\"category\": {\"scheme\": [\"#e9dfd7\", \"#c3b8af\", \"#595959\", \"#423d3e\", \"#97bfc5\", \"#799ba0\"]}}}, \"data\": {\"name\": \"data-2415fdd57087816957eb88297ea57dd8\"}, \"mark\": {\"type\": \"arc\"}, \"encoding\": {\"color\": {\"field\": \"Type\", \"type\": \"nominal\"}, \"theta\": {\"field\": \"counts\", \"type\": \"quantitative\"}}, \"title\": \"Shark Attack Types\", \"$schema\": \"https://vega.github.io/schema/vega-lite/v5.14.1.json\", \"datasets\": {\"data-2415fdd57087816957eb88297ea57dd8\": [{\"Type\": \"Boating\", \"counts\": 312}, {\"Type\": \"Provoked\", \"counts\": 539}, {\"Type\": \"Sea Disaster\", \"counts\": 186}, {\"Type\": \"Unknown\", \"counts\": 5}, {\"Type\": \"Unprovoked\", \"counts\": 4044}]}}, {\"mode\": \"vega-lite\"});\n",
       "</script>"
      ],
      "text/plain": [
       "alt.Chart(...)"
      ]
     },
     "execution_count": 17,
     "metadata": {},
     "output_type": "execute_result"
    }
   ],
   "source": [
    "type_chart = alt.Chart(attack_types, title = \"Shark Attack Types\").mark_arc().encode(\n",
    "    theta = 'counts',\n",
    "    color = 'Type:N'\n",
    "    #color = alt.Color('Type').scale(domain = 'Type', range = color_scheme)\n",
    ").configure_range(\n",
    "    category={'scheme': color_scheme}\n",
    ")\n",
    "\n",
    "type_chart"
   ]
  },
  {
   "cell_type": "markdown",
   "id": "5438a220",
   "metadata": {},
   "source": [
    "From this chart, we can clearly see that a large majority of recorded shark attacks are considered to have been unprovoked! This may be weighed heavily by the fact that most people are not purposefully going out of their way to provoke a shark, but it is a bit unsettling to see how many attacks occur without provocation..."
   ]
  },
  {
   "cell_type": "markdown",
   "id": "eb417349",
   "metadata": {},
   "source": [
    "## Shark Attacks Over Time\n",
    "\n",
    "We also want to examine the number of shark attacks over time. This can be visualized with a line chart showing the number of attacks per year."
   ]
  },
  {
   "cell_type": "code",
   "execution_count": 18,
   "id": "0e1a45f4",
   "metadata": {},
   "outputs": [
    {
     "data": {
      "text/html": [
       "\n",
       "<style>\n",
       "  #altair-viz-562785ffad8d4020840683a1ae684a59.vega-embed {\n",
       "    width: 100%;\n",
       "    display: flex;\n",
       "  }\n",
       "\n",
       "  #altair-viz-562785ffad8d4020840683a1ae684a59.vega-embed details,\n",
       "  #altair-viz-562785ffad8d4020840683a1ae684a59.vega-embed details summary {\n",
       "    position: relative;\n",
       "  }\n",
       "</style>\n",
       "<div id=\"altair-viz-562785ffad8d4020840683a1ae684a59\"></div>\n",
       "<script type=\"text/javascript\">\n",
       "  var VEGA_DEBUG = (typeof VEGA_DEBUG == \"undefined\") ? {} : VEGA_DEBUG;\n",
       "  (function(spec, embedOpt){\n",
       "    let outputDiv = document.currentScript.previousElementSibling;\n",
       "    if (outputDiv.id !== \"altair-viz-562785ffad8d4020840683a1ae684a59\") {\n",
       "      outputDiv = document.getElementById(\"altair-viz-562785ffad8d4020840683a1ae684a59\");\n",
       "    }\n",
       "    const paths = {\n",
       "      \"vega\": \"https://cdn.jsdelivr.net/npm/vega@5?noext\",\n",
       "      \"vega-lib\": \"https://cdn.jsdelivr.net/npm/vega-lib?noext\",\n",
       "      \"vega-lite\": \"https://cdn.jsdelivr.net/npm/vega-lite@5.14.1?noext\",\n",
       "      \"vega-embed\": \"https://cdn.jsdelivr.net/npm/vega-embed@6?noext\",\n",
       "    };\n",
       "\n",
       "    function maybeLoadScript(lib, version) {\n",
       "      var key = `${lib.replace(\"-\", \"\")}_version`;\n",
       "      return (VEGA_DEBUG[key] == version) ?\n",
       "        Promise.resolve(paths[lib]) :\n",
       "        new Promise(function(resolve, reject) {\n",
       "          var s = document.createElement('script');\n",
       "          document.getElementsByTagName(\"head\")[0].appendChild(s);\n",
       "          s.async = true;\n",
       "          s.onload = () => {\n",
       "            VEGA_DEBUG[key] = version;\n",
       "            return resolve(paths[lib]);\n",
       "          };\n",
       "          s.onerror = () => reject(`Error loading script: ${paths[lib]}`);\n",
       "          s.src = paths[lib];\n",
       "        });\n",
       "    }\n",
       "\n",
       "    function showError(err) {\n",
       "      outputDiv.innerHTML = `<div class=\"error\" style=\"color:red;\">${err}</div>`;\n",
       "      throw err;\n",
       "    }\n",
       "\n",
       "    function displayChart(vegaEmbed) {\n",
       "      vegaEmbed(outputDiv, spec, embedOpt)\n",
       "        .catch(err => showError(`Javascript Error: ${err.message}<br>This usually means there's a typo in your chart specification. See the javascript console for the full traceback.`));\n",
       "    }\n",
       "\n",
       "    if(typeof define === \"function\" && define.amd) {\n",
       "      requirejs.config({paths});\n",
       "      require([\"vega-embed\"], displayChart, err => showError(`Error loading script: ${err.message}`));\n",
       "    } else {\n",
       "      maybeLoadScript(\"vega\", \"5\")\n",
       "        .then(() => maybeLoadScript(\"vega-lite\", \"5.14.1\"))\n",
       "        .then(() => maybeLoadScript(\"vega-embed\", \"6\"))\n",
       "        .catch(showError)\n",
       "        .then(() => displayChart(vegaEmbed));\n",
       "    }\n",
       "  })({\"config\": {\"view\": {\"continuousWidth\": 300, \"continuousHeight\": 300}, \"range\": {\"category\": {\"scheme\": [\"#e9dfd7\", \"#c3b8af\", \"#595959\", \"#423d3e\", \"#97bfc5\", \"#799ba0\"]}}}, \"data\": {\"name\": \"data-f392defa316f8e4cf6117f12ed8a83a0\"}, \"mark\": {\"type\": \"line\"}, \"encoding\": {\"x\": {\"field\": \"Year\", \"type\": \"nominal\"}, \"y\": {\"field\": \"Attacks\", \"type\": \"quantitative\"}}, \"title\": \"Shark Attacks by Year\", \"$schema\": \"https://vega.github.io/schema/vega-lite/v5.14.1.json\", \"datasets\": {\"data-f392defa316f8e4cf6117f12ed8a83a0\": [{\"Year\": 1900.0, \"Attacks\": 11}, {\"Year\": 1901.0, \"Attacks\": 7}, {\"Year\": 1902.0, \"Attacks\": 13}, {\"Year\": 1903.0, \"Attacks\": 10}, {\"Year\": 1904.0, \"Attacks\": 13}, {\"Year\": 1905.0, \"Attacks\": 12}, {\"Year\": 1906.0, \"Attacks\": 18}, {\"Year\": 1907.0, \"Attacks\": 20}, {\"Year\": 1908.0, \"Attacks\": 11}, {\"Year\": 1909.0, \"Attacks\": 15}, {\"Year\": 1910.0, \"Attacks\": 10}, {\"Year\": 1911.0, \"Attacks\": 15}, {\"Year\": 1912.0, \"Attacks\": 13}, {\"Year\": 1913.0, \"Attacks\": 15}, {\"Year\": 1914.0, \"Attacks\": 17}, {\"Year\": 1915.0, \"Attacks\": 9}, {\"Year\": 1916.0, \"Attacks\": 24}, {\"Year\": 1917.0, \"Attacks\": 11}, {\"Year\": 1918.0, \"Attacks\": 5}, {\"Year\": 1919.0, \"Attacks\": 13}, {\"Year\": 1920.0, \"Attacks\": 14}, {\"Year\": 1921.0, \"Attacks\": 11}, {\"Year\": 1922.0, \"Attacks\": 20}, {\"Year\": 1923.0, \"Attacks\": 17}, {\"Year\": 1924.0, \"Attacks\": 17}, {\"Year\": 1925.0, \"Attacks\": 13}, {\"Year\": 1926.0, \"Attacks\": 20}, {\"Year\": 1927.0, \"Attacks\": 19}, {\"Year\": 1928.0, \"Attacks\": 22}, {\"Year\": 1929.0, \"Attacks\": 36}, {\"Year\": 1930.0, \"Attacks\": 24}, {\"Year\": 1931.0, \"Attacks\": 26}, {\"Year\": 1932.0, \"Attacks\": 26}, {\"Year\": 1933.0, \"Attacks\": 21}, {\"Year\": 1934.0, \"Attacks\": 26}, {\"Year\": 1935.0, \"Attacks\": 26}, {\"Year\": 1936.0, \"Attacks\": 31}, {\"Year\": 1937.0, \"Attacks\": 25}, {\"Year\": 1938.0, \"Attacks\": 23}, {\"Year\": 1939.0, \"Attacks\": 24}, {\"Year\": 1940.0, \"Attacks\": 21}, {\"Year\": 1941.0, \"Attacks\": 26}, {\"Year\": 1942.0, \"Attacks\": 38}, {\"Year\": 1943.0, \"Attacks\": 24}, {\"Year\": 1944.0, \"Attacks\": 29}, {\"Year\": 1945.0, \"Attacks\": 16}, {\"Year\": 1946.0, \"Attacks\": 26}, {\"Year\": 1947.0, \"Attacks\": 28}, {\"Year\": 1948.0, \"Attacks\": 28}, {\"Year\": 1949.0, \"Attacks\": 27}, {\"Year\": 1950.0, \"Attacks\": 39}, {\"Year\": 1951.0, \"Attacks\": 29}, {\"Year\": 1952.0, \"Attacks\": 27}, {\"Year\": 1953.0, \"Attacks\": 35}, {\"Year\": 1954.0, \"Attacks\": 39}, {\"Year\": 1955.0, \"Attacks\": 42}, {\"Year\": 1956.0, \"Attacks\": 51}, {\"Year\": 1957.0, \"Attacks\": 38}, {\"Year\": 1958.0, \"Attacks\": 49}, {\"Year\": 1959.0, \"Attacks\": 81}, {\"Year\": 1960.0, \"Attacks\": 80}, {\"Year\": 1961.0, \"Attacks\": 72}, {\"Year\": 1962.0, \"Attacks\": 80}, {\"Year\": 1963.0, \"Attacks\": 55}, {\"Year\": 1964.0, \"Attacks\": 57}, {\"Year\": 1965.0, \"Attacks\": 43}, {\"Year\": 1966.0, \"Attacks\": 51}, {\"Year\": 1967.0, \"Attacks\": 42}, {\"Year\": 1968.0, \"Attacks\": 38}, {\"Year\": 1969.0, \"Attacks\": 27}, {\"Year\": 1970.0, \"Attacks\": 40}, {\"Year\": 1971.0, \"Attacks\": 28}, {\"Year\": 1972.0, \"Attacks\": 33}, {\"Year\": 1973.0, \"Attacks\": 27}, {\"Year\": 1974.0, \"Attacks\": 38}, {\"Year\": 1975.0, \"Attacks\": 44}, {\"Year\": 1976.0, \"Attacks\": 36}, {\"Year\": 1977.0, \"Attacks\": 23}, {\"Year\": 1978.0, \"Attacks\": 22}, {\"Year\": 1979.0, \"Attacks\": 23}, {\"Year\": 1980.0, \"Attacks\": 31}, {\"Year\": 1981.0, \"Attacks\": 46}, {\"Year\": 1982.0, \"Attacks\": 35}, {\"Year\": 1983.0, \"Attacks\": 44}, {\"Year\": 1984.0, \"Attacks\": 35}, {\"Year\": 1985.0, \"Attacks\": 32}, {\"Year\": 1986.0, \"Attacks\": 36}, {\"Year\": 1987.0, \"Attacks\": 30}, {\"Year\": 1988.0, \"Attacks\": 51}, {\"Year\": 1989.0, \"Attacks\": 47}, {\"Year\": 1990.0, \"Attacks\": 36}, {\"Year\": 1991.0, \"Attacks\": 37}, {\"Year\": 1992.0, \"Attacks\": 50}, {\"Year\": 1993.0, \"Attacks\": 55}, {\"Year\": 1994.0, \"Attacks\": 54}, {\"Year\": 1995.0, \"Attacks\": 68}, {\"Year\": 1996.0, \"Attacks\": 59}, {\"Year\": 1997.0, \"Attacks\": 54}, {\"Year\": 1998.0, \"Attacks\": 63}, {\"Year\": 1999.0, \"Attacks\": 62}, {\"Year\": 2000.0, \"Attacks\": 91}, {\"Year\": 2001.0, \"Attacks\": 84}, {\"Year\": 2002.0, \"Attacks\": 84}, {\"Year\": 2003.0, \"Attacks\": 85}, {\"Year\": 2004.0, \"Attacks\": 82}, {\"Year\": 2005.0, \"Attacks\": 91}, {\"Year\": 2006.0, \"Attacks\": 92}, {\"Year\": 2007.0, \"Attacks\": 101}, {\"Year\": 2008.0, \"Attacks\": 112}, {\"Year\": 2009.0, \"Attacks\": 109}, {\"Year\": 2010.0, \"Attacks\": 97}, {\"Year\": 2011.0, \"Attacks\": 117}, {\"Year\": 2012.0, \"Attacks\": 108}, {\"Year\": 2013.0, \"Attacks\": 115}, {\"Year\": 2014.0, \"Attacks\": 118}, {\"Year\": 2015.0, \"Attacks\": 130}, {\"Year\": 2016.0, \"Attacks\": 121}, {\"Year\": 2017.0, \"Attacks\": 122}, {\"Year\": 2018.0, \"Attacks\": 47}]}}, {\"mode\": \"vega-lite\"});\n",
       "</script>"
      ],
      "text/plain": [
       "alt.Chart(...)"
      ]
     },
     "execution_count": 18,
     "metadata": {},
     "output_type": "execute_result"
    }
   ],
   "source": [
    "attack_years = attacks.groupby('Year')['Year'].count().reset_index(name = \"Attacks\")\n",
    "\n",
    "\n",
    "attacks_by_year = alt.Chart(attack_years, title = 'Shark Attacks by Year').mark_line().encode(\n",
    "    x = 'Year:N',\n",
    "    y = 'Attacks'\n",
    ").configure_range(\n",
    "    category={'scheme': color_scheme}\n",
    ")\n",
    "\n",
    "\n",
    "attacks_by_year"
   ]
  },
  {
   "cell_type": "markdown",
   "id": "f9618a81",
   "metadata": {},
   "source": [
    "The above chart shows a very large timespan. This can be simplified a bit by only focusing on more recent data, such as just attacks since 1950."
   ]
  },
  {
   "cell_type": "code",
   "execution_count": 19,
   "id": "50ccf362",
   "metadata": {},
   "outputs": [
    {
     "data": {
      "text/html": [
       "\n",
       "<style>\n",
       "  #altair-viz-7ba076c87a1840c1927baed71cccdd9a.vega-embed {\n",
       "    width: 100%;\n",
       "    display: flex;\n",
       "  }\n",
       "\n",
       "  #altair-viz-7ba076c87a1840c1927baed71cccdd9a.vega-embed details,\n",
       "  #altair-viz-7ba076c87a1840c1927baed71cccdd9a.vega-embed details summary {\n",
       "    position: relative;\n",
       "  }\n",
       "</style>\n",
       "<div id=\"altair-viz-7ba076c87a1840c1927baed71cccdd9a\"></div>\n",
       "<script type=\"text/javascript\">\n",
       "  var VEGA_DEBUG = (typeof VEGA_DEBUG == \"undefined\") ? {} : VEGA_DEBUG;\n",
       "  (function(spec, embedOpt){\n",
       "    let outputDiv = document.currentScript.previousElementSibling;\n",
       "    if (outputDiv.id !== \"altair-viz-7ba076c87a1840c1927baed71cccdd9a\") {\n",
       "      outputDiv = document.getElementById(\"altair-viz-7ba076c87a1840c1927baed71cccdd9a\");\n",
       "    }\n",
       "    const paths = {\n",
       "      \"vega\": \"https://cdn.jsdelivr.net/npm/vega@5?noext\",\n",
       "      \"vega-lib\": \"https://cdn.jsdelivr.net/npm/vega-lib?noext\",\n",
       "      \"vega-lite\": \"https://cdn.jsdelivr.net/npm/vega-lite@5.14.1?noext\",\n",
       "      \"vega-embed\": \"https://cdn.jsdelivr.net/npm/vega-embed@6?noext\",\n",
       "    };\n",
       "\n",
       "    function maybeLoadScript(lib, version) {\n",
       "      var key = `${lib.replace(\"-\", \"\")}_version`;\n",
       "      return (VEGA_DEBUG[key] == version) ?\n",
       "        Promise.resolve(paths[lib]) :\n",
       "        new Promise(function(resolve, reject) {\n",
       "          var s = document.createElement('script');\n",
       "          document.getElementsByTagName(\"head\")[0].appendChild(s);\n",
       "          s.async = true;\n",
       "          s.onload = () => {\n",
       "            VEGA_DEBUG[key] = version;\n",
       "            return resolve(paths[lib]);\n",
       "          };\n",
       "          s.onerror = () => reject(`Error loading script: ${paths[lib]}`);\n",
       "          s.src = paths[lib];\n",
       "        });\n",
       "    }\n",
       "\n",
       "    function showError(err) {\n",
       "      outputDiv.innerHTML = `<div class=\"error\" style=\"color:red;\">${err}</div>`;\n",
       "      throw err;\n",
       "    }\n",
       "\n",
       "    function displayChart(vegaEmbed) {\n",
       "      vegaEmbed(outputDiv, spec, embedOpt)\n",
       "        .catch(err => showError(`Javascript Error: ${err.message}<br>This usually means there's a typo in your chart specification. See the javascript console for the full traceback.`));\n",
       "    }\n",
       "\n",
       "    if(typeof define === \"function\" && define.amd) {\n",
       "      requirejs.config({paths});\n",
       "      require([\"vega-embed\"], displayChart, err => showError(`Error loading script: ${err.message}`));\n",
       "    } else {\n",
       "      maybeLoadScript(\"vega\", \"5\")\n",
       "        .then(() => maybeLoadScript(\"vega-lite\", \"5.14.1\"))\n",
       "        .then(() => maybeLoadScript(\"vega-embed\", \"6\"))\n",
       "        .catch(showError)\n",
       "        .then(() => displayChart(vegaEmbed));\n",
       "    }\n",
       "  })({\"config\": {\"view\": {\"continuousWidth\": 300, \"continuousHeight\": 300}, \"range\": {\"category\": {\"scheme\": [\"#e9dfd7\", \"#c3b8af\", \"#595959\", \"#423d3e\", \"#97bfc5\", \"#799ba0\"]}}}, \"data\": {\"name\": \"data-a7d578ac1693044b5c357cccb8099a0f\"}, \"mark\": {\"type\": \"line\"}, \"encoding\": {\"x\": {\"field\": \"Year\", \"type\": \"nominal\"}, \"y\": {\"field\": \"Attacks\", \"type\": \"quantitative\"}}, \"title\": \"Shark Attacks by Year After 1950\", \"$schema\": \"https://vega.github.io/schema/vega-lite/v5.14.1.json\", \"datasets\": {\"data-a7d578ac1693044b5c357cccb8099a0f\": [{\"Year\": 1951.0, \"Attacks\": 29}, {\"Year\": 1952.0, \"Attacks\": 27}, {\"Year\": 1953.0, \"Attacks\": 35}, {\"Year\": 1954.0, \"Attacks\": 39}, {\"Year\": 1955.0, \"Attacks\": 42}, {\"Year\": 1956.0, \"Attacks\": 51}, {\"Year\": 1957.0, \"Attacks\": 38}, {\"Year\": 1958.0, \"Attacks\": 49}, {\"Year\": 1959.0, \"Attacks\": 81}, {\"Year\": 1960.0, \"Attacks\": 80}, {\"Year\": 1961.0, \"Attacks\": 72}, {\"Year\": 1962.0, \"Attacks\": 80}, {\"Year\": 1963.0, \"Attacks\": 55}, {\"Year\": 1964.0, \"Attacks\": 57}, {\"Year\": 1965.0, \"Attacks\": 43}, {\"Year\": 1966.0, \"Attacks\": 51}, {\"Year\": 1967.0, \"Attacks\": 42}, {\"Year\": 1968.0, \"Attacks\": 38}, {\"Year\": 1969.0, \"Attacks\": 27}, {\"Year\": 1970.0, \"Attacks\": 40}, {\"Year\": 1971.0, \"Attacks\": 28}, {\"Year\": 1972.0, \"Attacks\": 33}, {\"Year\": 1973.0, \"Attacks\": 27}, {\"Year\": 1974.0, \"Attacks\": 38}, {\"Year\": 1975.0, \"Attacks\": 44}, {\"Year\": 1976.0, \"Attacks\": 36}, {\"Year\": 1977.0, \"Attacks\": 23}, {\"Year\": 1978.0, \"Attacks\": 22}, {\"Year\": 1979.0, \"Attacks\": 23}, {\"Year\": 1980.0, \"Attacks\": 31}, {\"Year\": 1981.0, \"Attacks\": 46}, {\"Year\": 1982.0, \"Attacks\": 35}, {\"Year\": 1983.0, \"Attacks\": 44}, {\"Year\": 1984.0, \"Attacks\": 35}, {\"Year\": 1985.0, \"Attacks\": 32}, {\"Year\": 1986.0, \"Attacks\": 36}, {\"Year\": 1987.0, \"Attacks\": 30}, {\"Year\": 1988.0, \"Attacks\": 51}, {\"Year\": 1989.0, \"Attacks\": 47}, {\"Year\": 1990.0, \"Attacks\": 36}, {\"Year\": 1991.0, \"Attacks\": 37}, {\"Year\": 1992.0, \"Attacks\": 50}, {\"Year\": 1993.0, \"Attacks\": 55}, {\"Year\": 1994.0, \"Attacks\": 54}, {\"Year\": 1995.0, \"Attacks\": 68}, {\"Year\": 1996.0, \"Attacks\": 59}, {\"Year\": 1997.0, \"Attacks\": 54}, {\"Year\": 1998.0, \"Attacks\": 63}, {\"Year\": 1999.0, \"Attacks\": 62}, {\"Year\": 2000.0, \"Attacks\": 91}, {\"Year\": 2001.0, \"Attacks\": 84}, {\"Year\": 2002.0, \"Attacks\": 84}, {\"Year\": 2003.0, \"Attacks\": 85}, {\"Year\": 2004.0, \"Attacks\": 82}, {\"Year\": 2005.0, \"Attacks\": 91}, {\"Year\": 2006.0, \"Attacks\": 92}, {\"Year\": 2007.0, \"Attacks\": 101}, {\"Year\": 2008.0, \"Attacks\": 112}, {\"Year\": 2009.0, \"Attacks\": 109}, {\"Year\": 2010.0, \"Attacks\": 97}, {\"Year\": 2011.0, \"Attacks\": 117}, {\"Year\": 2012.0, \"Attacks\": 108}, {\"Year\": 2013.0, \"Attacks\": 115}, {\"Year\": 2014.0, \"Attacks\": 118}, {\"Year\": 2015.0, \"Attacks\": 130}, {\"Year\": 2016.0, \"Attacks\": 121}, {\"Year\": 2017.0, \"Attacks\": 122}, {\"Year\": 2018.0, \"Attacks\": 47}]}}, {\"mode\": \"vega-lite\"});\n",
       "</script>"
      ],
      "text/plain": [
       "alt.Chart(...)"
      ]
     },
     "execution_count": 19,
     "metadata": {},
     "output_type": "execute_result"
    }
   ],
   "source": [
    "attacks_by_year_1950 = alt.Chart(attack_years[attack_years['Year'] > 1950], title = 'Shark Attacks by Year After 1950').mark_line().encode(\n",
    "    x = 'Year:N',\n",
    "    y = 'Attacks'\n",
    ").configure_range(\n",
    "    category={'scheme': color_scheme}\n",
    ")\n",
    "\n",
    "\n",
    "attacks_by_year_1950"
   ]
  },
  {
   "cell_type": "markdown",
   "id": "eefd35a5",
   "metadata": {},
   "source": [
    "These visualizations show a (scary) trend that shark attacks have mostly been increasing over time. Interestingly there is a fairly significant spike between 1957 - 1963. The attacks settle down a bit until picking up fairly significantly through the 90s and 200s.\n",
    "\n",
    "In case anyone was wondering, Jaws was released in 1975!"
   ]
  },
  {
   "cell_type": "markdown",
   "id": "5fe7cfde",
   "metadata": {},
   "source": [
    "## Shark Attacks by Country\n",
    "\n",
    "So we've now seen that sharks will attack people unprovoked and that shark attacks seem to be increasing over time. But where do shark attacks happen the most frequently? To visualize this we will look at the 5 countries with the most recorded shark attacks."
   ]
  },
  {
   "cell_type": "code",
   "execution_count": 20,
   "id": "07aa819a",
   "metadata": {
    "scrolled": false
   },
   "outputs": [
    {
     "data": {
      "text/html": [
       "\n",
       "<style>\n",
       "  #altair-viz-7f2bd0422f5b43e89a0efd0749abd552.vega-embed {\n",
       "    width: 100%;\n",
       "    display: flex;\n",
       "  }\n",
       "\n",
       "  #altair-viz-7f2bd0422f5b43e89a0efd0749abd552.vega-embed details,\n",
       "  #altair-viz-7f2bd0422f5b43e89a0efd0749abd552.vega-embed details summary {\n",
       "    position: relative;\n",
       "  }\n",
       "</style>\n",
       "<div id=\"altair-viz-7f2bd0422f5b43e89a0efd0749abd552\"></div>\n",
       "<script type=\"text/javascript\">\n",
       "  var VEGA_DEBUG = (typeof VEGA_DEBUG == \"undefined\") ? {} : VEGA_DEBUG;\n",
       "  (function(spec, embedOpt){\n",
       "    let outputDiv = document.currentScript.previousElementSibling;\n",
       "    if (outputDiv.id !== \"altair-viz-7f2bd0422f5b43e89a0efd0749abd552\") {\n",
       "      outputDiv = document.getElementById(\"altair-viz-7f2bd0422f5b43e89a0efd0749abd552\");\n",
       "    }\n",
       "    const paths = {\n",
       "      \"vega\": \"https://cdn.jsdelivr.net/npm/vega@5?noext\",\n",
       "      \"vega-lib\": \"https://cdn.jsdelivr.net/npm/vega-lib?noext\",\n",
       "      \"vega-lite\": \"https://cdn.jsdelivr.net/npm/vega-lite@5.14.1?noext\",\n",
       "      \"vega-embed\": \"https://cdn.jsdelivr.net/npm/vega-embed@6?noext\",\n",
       "    };\n",
       "\n",
       "    function maybeLoadScript(lib, version) {\n",
       "      var key = `${lib.replace(\"-\", \"\")}_version`;\n",
       "      return (VEGA_DEBUG[key] == version) ?\n",
       "        Promise.resolve(paths[lib]) :\n",
       "        new Promise(function(resolve, reject) {\n",
       "          var s = document.createElement('script');\n",
       "          document.getElementsByTagName(\"head\")[0].appendChild(s);\n",
       "          s.async = true;\n",
       "          s.onload = () => {\n",
       "            VEGA_DEBUG[key] = version;\n",
       "            return resolve(paths[lib]);\n",
       "          };\n",
       "          s.onerror = () => reject(`Error loading script: ${paths[lib]}`);\n",
       "          s.src = paths[lib];\n",
       "        });\n",
       "    }\n",
       "\n",
       "    function showError(err) {\n",
       "      outputDiv.innerHTML = `<div class=\"error\" style=\"color:red;\">${err}</div>`;\n",
       "      throw err;\n",
       "    }\n",
       "\n",
       "    function displayChart(vegaEmbed) {\n",
       "      vegaEmbed(outputDiv, spec, embedOpt)\n",
       "        .catch(err => showError(`Javascript Error: ${err.message}<br>This usually means there's a typo in your chart specification. See the javascript console for the full traceback.`));\n",
       "    }\n",
       "\n",
       "    if(typeof define === \"function\" && define.amd) {\n",
       "      requirejs.config({paths});\n",
       "      require([\"vega-embed\"], displayChart, err => showError(`Error loading script: ${err.message}`));\n",
       "    } else {\n",
       "      maybeLoadScript(\"vega\", \"5\")\n",
       "        .then(() => maybeLoadScript(\"vega-lite\", \"5.14.1\"))\n",
       "        .then(() => maybeLoadScript(\"vega-embed\", \"6\"))\n",
       "        .catch(showError)\n",
       "        .then(() => displayChart(vegaEmbed));\n",
       "    }\n",
       "  })({\"config\": {\"view\": {\"continuousWidth\": 300, \"continuousHeight\": 300}, \"range\": {\"category\": {\"scheme\": [\"#e9dfd7\", \"#c3b8af\", \"#595959\", \"#423d3e\", \"#97bfc5\", \"#799ba0\"]}}}, \"data\": {\"name\": \"data-9e6432f167ece1fc3393000ff90213b2\"}, \"mark\": {\"type\": \"bar\"}, \"encoding\": {\"color\": {\"field\": \"Country\", \"legend\": null, \"type\": \"nominal\"}, \"x\": {\"field\": \"Country\", \"type\": \"nominal\"}, \"y\": {\"field\": \"Attacks\", \"type\": \"quantitative\"}}, \"title\": \"Top 5 Countries with the Most Shark Attacks\", \"$schema\": \"https://vega.github.io/schema/vega-lite/v5.14.1.json\", \"datasets\": {\"data-9e6432f167ece1fc3393000ff90213b2\": [{\"Country\": \"USA\", \"Attacks\": 1905}, {\"Country\": \"AUSTRALIA\", \"Attacks\": 1082}, {\"Country\": \"SOUTH AFRICA\", \"Attacks\": 488}, {\"Country\": \"PAPUA NEW GUINEA\", \"Attacks\": 129}, {\"Country\": \"BRAZIL\", \"Attacks\": 98}]}}, {\"mode\": \"vega-lite\"});\n",
       "</script>"
      ],
      "text/plain": [
       "alt.Chart(...)"
      ]
     },
     "execution_count": 20,
     "metadata": {},
     "output_type": "execute_result"
    }
   ],
   "source": [
    "attacks_by_country = attacks.groupby('Country')['Country'].count().reset_index(name = 'Attacks')\n",
    "attacks_by_country.sort_values('Attacks', ascending = False, inplace = True)\n",
    "\n",
    "country_chart = alt.Chart(attacks_by_country.head(), title = 'Top 5 Countries with the Most Shark Attacks').mark_bar().encode(\n",
    "    x = 'Country',\n",
    "    y = 'Attacks',\n",
    "    color = alt.Color('Country').legend(None)\n",
    ").configure_range(\n",
    "    category={'scheme': color_scheme}\n",
    ")\n",
    "\n",
    "country_chart"
   ]
  },
  {
   "cell_type": "markdown",
   "id": "225237fb",
   "metadata": {},
   "source": [
    "Great... well now we know where not to go swimming! \n",
    "\n",
    "But has this been consistent over time? We already looked at how the total number of shark attacks have increased since 1950, now we look into this further by looking at each of the countries with the most shark attacks."
   ]
  },
  {
   "cell_type": "code",
   "execution_count": 21,
   "id": "c02b369f",
   "metadata": {},
   "outputs": [
    {
     "data": {
      "text/html": [
       "\n",
       "<style>\n",
       "  #altair-viz-adf41b3a6e1540a2a1bda7a5bf2225f6.vega-embed {\n",
       "    width: 100%;\n",
       "    display: flex;\n",
       "  }\n",
       "\n",
       "  #altair-viz-adf41b3a6e1540a2a1bda7a5bf2225f6.vega-embed details,\n",
       "  #altair-viz-adf41b3a6e1540a2a1bda7a5bf2225f6.vega-embed details summary {\n",
       "    position: relative;\n",
       "  }\n",
       "</style>\n",
       "<div id=\"altair-viz-adf41b3a6e1540a2a1bda7a5bf2225f6\"></div>\n",
       "<script type=\"text/javascript\">\n",
       "  var VEGA_DEBUG = (typeof VEGA_DEBUG == \"undefined\") ? {} : VEGA_DEBUG;\n",
       "  (function(spec, embedOpt){\n",
       "    let outputDiv = document.currentScript.previousElementSibling;\n",
       "    if (outputDiv.id !== \"altair-viz-adf41b3a6e1540a2a1bda7a5bf2225f6\") {\n",
       "      outputDiv = document.getElementById(\"altair-viz-adf41b3a6e1540a2a1bda7a5bf2225f6\");\n",
       "    }\n",
       "    const paths = {\n",
       "      \"vega\": \"https://cdn.jsdelivr.net/npm/vega@5?noext\",\n",
       "      \"vega-lib\": \"https://cdn.jsdelivr.net/npm/vega-lib?noext\",\n",
       "      \"vega-lite\": \"https://cdn.jsdelivr.net/npm/vega-lite@5.14.1?noext\",\n",
       "      \"vega-embed\": \"https://cdn.jsdelivr.net/npm/vega-embed@6?noext\",\n",
       "    };\n",
       "\n",
       "    function maybeLoadScript(lib, version) {\n",
       "      var key = `${lib.replace(\"-\", \"\")}_version`;\n",
       "      return (VEGA_DEBUG[key] == version) ?\n",
       "        Promise.resolve(paths[lib]) :\n",
       "        new Promise(function(resolve, reject) {\n",
       "          var s = document.createElement('script');\n",
       "          document.getElementsByTagName(\"head\")[0].appendChild(s);\n",
       "          s.async = true;\n",
       "          s.onload = () => {\n",
       "            VEGA_DEBUG[key] = version;\n",
       "            return resolve(paths[lib]);\n",
       "          };\n",
       "          s.onerror = () => reject(`Error loading script: ${paths[lib]}`);\n",
       "          s.src = paths[lib];\n",
       "        });\n",
       "    }\n",
       "\n",
       "    function showError(err) {\n",
       "      outputDiv.innerHTML = `<div class=\"error\" style=\"color:red;\">${err}</div>`;\n",
       "      throw err;\n",
       "    }\n",
       "\n",
       "    function displayChart(vegaEmbed) {\n",
       "      vegaEmbed(outputDiv, spec, embedOpt)\n",
       "        .catch(err => showError(`Javascript Error: ${err.message}<br>This usually means there's a typo in your chart specification. See the javascript console for the full traceback.`));\n",
       "    }\n",
       "\n",
       "    if(typeof define === \"function\" && define.amd) {\n",
       "      requirejs.config({paths});\n",
       "      require([\"vega-embed\"], displayChart, err => showError(`Error loading script: ${err.message}`));\n",
       "    } else {\n",
       "      maybeLoadScript(\"vega\", \"5\")\n",
       "        .then(() => maybeLoadScript(\"vega-lite\", \"5.14.1\"))\n",
       "        .then(() => maybeLoadScript(\"vega-embed\", \"6\"))\n",
       "        .catch(showError)\n",
       "        .then(() => displayChart(vegaEmbed));\n",
       "    }\n",
       "  })({\"config\": {\"view\": {\"continuousWidth\": 300, \"continuousHeight\": 300}, \"range\": {\"category\": {\"scheme\": [\"#e9dfd7\", \"#c3b8af\", \"#595959\", \"#423d3e\", \"#97bfc5\", \"#799ba0\"]}}}, \"data\": {\"name\": \"data-0eb56da066c02d0533b1c34c7409d204\"}, \"mark\": {\"type\": \"line\"}, \"encoding\": {\"color\": {\"field\": \"Country\", \"type\": \"nominal\"}, \"x\": {\"field\": \"Year\", \"type\": \"ordinal\"}, \"y\": {\"field\": \"Attacks\", \"type\": \"quantitative\"}}, \"title\": \"Shark Attacks by Country Over Time\", \"$schema\": \"https://vega.github.io/schema/vega-lite/v5.14.1.json\", \"datasets\": {\"data-0eb56da066c02d0533b1c34c7409d204\": [{\"Country\": \"AUSTRALIA\", \"Year\": 1951.0, \"Attacks\": 8}, {\"Country\": \"AUSTRALIA\", \"Year\": 1952.0, \"Attacks\": 5}, {\"Country\": \"AUSTRALIA\", \"Year\": 1953.0, \"Attacks\": 12}, {\"Country\": \"AUSTRALIA\", \"Year\": 1954.0, \"Attacks\": 6}, {\"Country\": \"AUSTRALIA\", \"Year\": 1955.0, \"Attacks\": 9}, {\"Country\": \"AUSTRALIA\", \"Year\": 1956.0, \"Attacks\": 10}, {\"Country\": \"AUSTRALIA\", \"Year\": 1957.0, \"Attacks\": 7}, {\"Country\": \"AUSTRALIA\", \"Year\": 1958.0, \"Attacks\": 3}, {\"Country\": \"AUSTRALIA\", \"Year\": 1959.0, \"Attacks\": 17}, {\"Country\": \"AUSTRALIA\", \"Year\": 1960.0, \"Attacks\": 20}, {\"Country\": \"AUSTRALIA\", \"Year\": 1961.0, \"Attacks\": 23}, {\"Country\": \"AUSTRALIA\", \"Year\": 1962.0, \"Attacks\": 18}, {\"Country\": \"AUSTRALIA\", \"Year\": 1963.0, \"Attacks\": 10}, {\"Country\": \"AUSTRALIA\", \"Year\": 1964.0, \"Attacks\": 8}, {\"Country\": \"AUSTRALIA\", \"Year\": 1965.0, \"Attacks\": 5}, {\"Country\": \"AUSTRALIA\", \"Year\": 1966.0, \"Attacks\": 16}, {\"Country\": \"AUSTRALIA\", \"Year\": 1967.0, \"Attacks\": 8}, {\"Country\": \"AUSTRALIA\", \"Year\": 1968.0, \"Attacks\": 8}, {\"Country\": \"AUSTRALIA\", \"Year\": 1969.0, \"Attacks\": 7}, {\"Country\": \"AUSTRALIA\", \"Year\": 1970.0, \"Attacks\": 1}, {\"Country\": \"AUSTRALIA\", \"Year\": 1971.0, \"Attacks\": 7}, {\"Country\": \"AUSTRALIA\", \"Year\": 1972.0, \"Attacks\": 10}, {\"Country\": \"AUSTRALIA\", \"Year\": 1973.0, \"Attacks\": 5}, {\"Country\": \"AUSTRALIA\", \"Year\": 1974.0, \"Attacks\": 4}, {\"Country\": \"AUSTRALIA\", \"Year\": 1975.0, \"Attacks\": 14}, {\"Country\": \"AUSTRALIA\", \"Year\": 1976.0, \"Attacks\": 4}, {\"Country\": \"AUSTRALIA\", \"Year\": 1977.0, \"Attacks\": 7}, {\"Country\": \"AUSTRALIA\", \"Year\": 1978.0, \"Attacks\": 3}, {\"Country\": \"AUSTRALIA\", \"Year\": 1979.0, \"Attacks\": 1}, {\"Country\": \"AUSTRALIA\", \"Year\": 1980.0, \"Attacks\": 1}, {\"Country\": \"AUSTRALIA\", \"Year\": 1981.0, \"Attacks\": 4}, {\"Country\": \"AUSTRALIA\", \"Year\": 1982.0, \"Attacks\": 2}, {\"Country\": \"AUSTRALIA\", \"Year\": 1983.0, \"Attacks\": 4}, {\"Country\": \"AUSTRALIA\", \"Year\": 1984.0, \"Attacks\": 3}, {\"Country\": \"AUSTRALIA\", \"Year\": 1985.0, \"Attacks\": 2}, {\"Country\": \"AUSTRALIA\", \"Year\": 1986.0, \"Attacks\": 5}, {\"Country\": \"AUSTRALIA\", \"Year\": 1987.0, \"Attacks\": 4}, {\"Country\": \"AUSTRALIA\", \"Year\": 1988.0, \"Attacks\": 6}, {\"Country\": \"AUSTRALIA\", \"Year\": 1989.0, \"Attacks\": 12}, {\"Country\": \"AUSTRALIA\", \"Year\": 1990.0, \"Attacks\": 9}, {\"Country\": \"AUSTRALIA\", \"Year\": 1991.0, \"Attacks\": 7}, {\"Country\": \"AUSTRALIA\", \"Year\": 1992.0, \"Attacks\": 5}, {\"Country\": \"AUSTRALIA\", \"Year\": 1993.0, \"Attacks\": 6}, {\"Country\": \"AUSTRALIA\", \"Year\": 1994.0, \"Attacks\": 2}, {\"Country\": \"AUSTRALIA\", \"Year\": 1995.0, \"Attacks\": 8}, {\"Country\": \"AUSTRALIA\", \"Year\": 1996.0, \"Attacks\": 11}, {\"Country\": \"AUSTRALIA\", \"Year\": 1997.0, \"Attacks\": 9}, {\"Country\": \"AUSTRALIA\", \"Year\": 1998.0, \"Attacks\": 4}, {\"Country\": \"AUSTRALIA\", \"Year\": 1999.0, \"Attacks\": 2}, {\"Country\": \"AUSTRALIA\", \"Year\": 2000.0, \"Attacks\": 16}, {\"Country\": \"AUSTRALIA\", \"Year\": 2001.0, \"Attacks\": 10}, {\"Country\": \"AUSTRALIA\", \"Year\": 2002.0, \"Attacks\": 11}, {\"Country\": \"AUSTRALIA\", \"Year\": 2003.0, \"Attacks\": 10}, {\"Country\": \"AUSTRALIA\", \"Year\": 2004.0, \"Attacks\": 15}, {\"Country\": \"AUSTRALIA\", \"Year\": 2005.0, \"Attacks\": 20}, {\"Country\": \"AUSTRALIA\", \"Year\": 2006.0, \"Attacks\": 12}, {\"Country\": \"AUSTRALIA\", \"Year\": 2007.0, \"Attacks\": 16}, {\"Country\": \"AUSTRALIA\", \"Year\": 2008.0, \"Attacks\": 18}, {\"Country\": \"AUSTRALIA\", \"Year\": 2009.0, \"Attacks\": 28}, {\"Country\": \"AUSTRALIA\", \"Year\": 2010.0, \"Attacks\": 17}, {\"Country\": \"AUSTRALIA\", \"Year\": 2011.0, \"Attacks\": 17}, {\"Country\": \"AUSTRALIA\", \"Year\": 2012.0, \"Attacks\": 24}, {\"Country\": \"AUSTRALIA\", \"Year\": 2013.0, \"Attacks\": 17}, {\"Country\": \"AUSTRALIA\", \"Year\": 2014.0, \"Attacks\": 27}, {\"Country\": \"AUSTRALIA\", \"Year\": 2015.0, \"Attacks\": 29}, {\"Country\": \"AUSTRALIA\", \"Year\": 2016.0, \"Attacks\": 31}, {\"Country\": \"AUSTRALIA\", \"Year\": 2017.0, \"Attacks\": 21}, {\"Country\": \"AUSTRALIA\", \"Year\": 2018.0, \"Attacks\": 21}, {\"Country\": \"BRAZIL\", \"Year\": 1974.0, \"Attacks\": 1}, {\"Country\": \"BRAZIL\", \"Year\": 1980.0, \"Attacks\": 2}, {\"Country\": \"BRAZIL\", \"Year\": 1981.0, \"Attacks\": 2}, {\"Country\": \"BRAZIL\", \"Year\": 1991.0, \"Attacks\": 1}, {\"Country\": \"BRAZIL\", \"Year\": 1992.0, \"Attacks\": 6}, {\"Country\": \"BRAZIL\", \"Year\": 1993.0, \"Attacks\": 3}, {\"Country\": \"BRAZIL\", \"Year\": 1994.0, \"Attacks\": 10}, {\"Country\": \"BRAZIL\", \"Year\": 1995.0, \"Attacks\": 4}, {\"Country\": \"BRAZIL\", \"Year\": 1996.0, \"Attacks\": 4}, {\"Country\": \"BRAZIL\", \"Year\": 1997.0, \"Attacks\": 5}, {\"Country\": \"BRAZIL\", \"Year\": 1998.0, \"Attacks\": 4}, {\"Country\": \"BRAZIL\", \"Year\": 1999.0, \"Attacks\": 4}, {\"Country\": \"BRAZIL\", \"Year\": 2001.0, \"Attacks\": 2}, {\"Country\": \"BRAZIL\", \"Year\": 2002.0, \"Attacks\": 7}, {\"Country\": \"BRAZIL\", \"Year\": 2003.0, \"Attacks\": 5}, {\"Country\": \"BRAZIL\", \"Year\": 2004.0, \"Attacks\": 7}, {\"Country\": \"BRAZIL\", \"Year\": 2005.0, \"Attacks\": 1}, {\"Country\": \"BRAZIL\", \"Year\": 2006.0, \"Attacks\": 5}, {\"Country\": \"BRAZIL\", \"Year\": 2007.0, \"Attacks\": 1}, {\"Country\": \"BRAZIL\", \"Year\": 2008.0, \"Attacks\": 3}, {\"Country\": \"BRAZIL\", \"Year\": 2009.0, \"Attacks\": 2}, {\"Country\": \"BRAZIL\", \"Year\": 2010.0, \"Attacks\": 1}, {\"Country\": \"BRAZIL\", \"Year\": 2011.0, \"Attacks\": 2}, {\"Country\": \"BRAZIL\", \"Year\": 2012.0, \"Attacks\": 1}, {\"Country\": \"BRAZIL\", \"Year\": 2013.0, \"Attacks\": 2}, {\"Country\": \"BRAZIL\", \"Year\": 2014.0, \"Attacks\": 1}, {\"Country\": \"BRAZIL\", \"Year\": 2015.0, \"Attacks\": 1}, {\"Country\": \"BRAZIL\", \"Year\": 2016.0, \"Attacks\": 2}, {\"Country\": \"BRAZIL\", \"Year\": 2017.0, \"Attacks\": 2}, {\"Country\": \"BRAZIL\", \"Year\": 2018.0, \"Attacks\": 3}, {\"Country\": \"SOUTH AFRICA\", \"Year\": 1951.0, \"Attacks\": 5}, {\"Country\": \"SOUTH AFRICA\", \"Year\": 1953.0, \"Attacks\": 2}, {\"Country\": \"SOUTH AFRICA\", \"Year\": 1954.0, \"Attacks\": 1}, {\"Country\": \"SOUTH AFRICA\", \"Year\": 1955.0, \"Attacks\": 1}, {\"Country\": \"SOUTH AFRICA\", \"Year\": 1956.0, \"Attacks\": 3}, {\"Country\": \"SOUTH AFRICA\", \"Year\": 1957.0, \"Attacks\": 6}, {\"Country\": \"SOUTH AFRICA\", \"Year\": 1958.0, \"Attacks\": 6}, {\"Country\": \"SOUTH AFRICA\", \"Year\": 1959.0, \"Attacks\": 5}, {\"Country\": \"SOUTH AFRICA\", \"Year\": 1960.0, \"Attacks\": 9}, {\"Country\": \"SOUTH AFRICA\", \"Year\": 1961.0, \"Attacks\": 9}, {\"Country\": \"SOUTH AFRICA\", \"Year\": 1962.0, \"Attacks\": 10}, {\"Country\": \"SOUTH AFRICA\", \"Year\": 1963.0, \"Attacks\": 11}, {\"Country\": \"SOUTH AFRICA\", \"Year\": 1964.0, \"Attacks\": 8}, {\"Country\": \"SOUTH AFRICA\", \"Year\": 1965.0, \"Attacks\": 3}, {\"Country\": \"SOUTH AFRICA\", \"Year\": 1966.0, \"Attacks\": 3}, {\"Country\": \"SOUTH AFRICA\", \"Year\": 1967.0, \"Attacks\": 4}, {\"Country\": \"SOUTH AFRICA\", \"Year\": 1968.0, \"Attacks\": 3}, {\"Country\": \"SOUTH AFRICA\", \"Year\": 1970.0, \"Attacks\": 1}, {\"Country\": \"SOUTH AFRICA\", \"Year\": 1971.0, \"Attacks\": 4}, {\"Country\": \"SOUTH AFRICA\", \"Year\": 1972.0, \"Attacks\": 4}, {\"Country\": \"SOUTH AFRICA\", \"Year\": 1973.0, \"Attacks\": 4}, {\"Country\": \"SOUTH AFRICA\", \"Year\": 1974.0, \"Attacks\": 11}, {\"Country\": \"SOUTH AFRICA\", \"Year\": 1975.0, \"Attacks\": 8}, {\"Country\": \"SOUTH AFRICA\", \"Year\": 1976.0, \"Attacks\": 11}, {\"Country\": \"SOUTH AFRICA\", \"Year\": 1977.0, \"Attacks\": 7}, {\"Country\": \"SOUTH AFRICA\", \"Year\": 1978.0, \"Attacks\": 6}, {\"Country\": \"SOUTH AFRICA\", \"Year\": 1979.0, \"Attacks\": 7}, {\"Country\": \"SOUTH AFRICA\", \"Year\": 1980.0, \"Attacks\": 8}, {\"Country\": \"SOUTH AFRICA\", \"Year\": 1981.0, \"Attacks\": 7}, {\"Country\": \"SOUTH AFRICA\", \"Year\": 1982.0, \"Attacks\": 7}, {\"Country\": \"SOUTH AFRICA\", \"Year\": 1983.0, \"Attacks\": 10}, {\"Country\": \"SOUTH AFRICA\", \"Year\": 1984.0, \"Attacks\": 10}, {\"Country\": \"SOUTH AFRICA\", \"Year\": 1985.0, \"Attacks\": 7}, {\"Country\": \"SOUTH AFRICA\", \"Year\": 1986.0, \"Attacks\": 11}, {\"Country\": \"SOUTH AFRICA\", \"Year\": 1987.0, \"Attacks\": 4}, {\"Country\": \"SOUTH AFRICA\", \"Year\": 1988.0, \"Attacks\": 7}, {\"Country\": \"SOUTH AFRICA\", \"Year\": 1989.0, \"Attacks\": 9}, {\"Country\": \"SOUTH AFRICA\", \"Year\": 1990.0, \"Attacks\": 5}, {\"Country\": \"SOUTH AFRICA\", \"Year\": 1991.0, \"Attacks\": 2}, {\"Country\": \"SOUTH AFRICA\", \"Year\": 1992.0, \"Attacks\": 3}, {\"Country\": \"SOUTH AFRICA\", \"Year\": 1993.0, \"Attacks\": 2}, {\"Country\": \"SOUTH AFRICA\", \"Year\": 1994.0, \"Attacks\": 9}, {\"Country\": \"SOUTH AFRICA\", \"Year\": 1995.0, \"Attacks\": 2}, {\"Country\": \"SOUTH AFRICA\", \"Year\": 1996.0, \"Attacks\": 4}, {\"Country\": \"SOUTH AFRICA\", \"Year\": 1997.0, \"Attacks\": 4}, {\"Country\": \"SOUTH AFRICA\", \"Year\": 1998.0, \"Attacks\": 19}, {\"Country\": \"SOUTH AFRICA\", \"Year\": 1999.0, \"Attacks\": 6}, {\"Country\": \"SOUTH AFRICA\", \"Year\": 2000.0, \"Attacks\": 5}, {\"Country\": \"SOUTH AFRICA\", \"Year\": 2001.0, \"Attacks\": 3}, {\"Country\": \"SOUTH AFRICA\", \"Year\": 2002.0, \"Attacks\": 5}, {\"Country\": \"SOUTH AFRICA\", \"Year\": 2003.0, \"Attacks\": 6}, {\"Country\": \"SOUTH AFRICA\", \"Year\": 2004.0, \"Attacks\": 10}, {\"Country\": \"SOUTH AFRICA\", \"Year\": 2005.0, \"Attacks\": 7}, {\"Country\": \"SOUTH AFRICA\", \"Year\": 2006.0, \"Attacks\": 10}, {\"Country\": \"SOUTH AFRICA\", \"Year\": 2007.0, \"Attacks\": 3}, {\"Country\": \"SOUTH AFRICA\", \"Year\": 2008.0, \"Attacks\": 7}, {\"Country\": \"SOUTH AFRICA\", \"Year\": 2009.0, \"Attacks\": 10}, {\"Country\": \"SOUTH AFRICA\", \"Year\": 2010.0, \"Attacks\": 7}, {\"Country\": \"SOUTH AFRICA\", \"Year\": 2011.0, \"Attacks\": 11}, {\"Country\": \"SOUTH AFRICA\", \"Year\": 2012.0, \"Attacks\": 5}, {\"Country\": \"SOUTH AFRICA\", \"Year\": 2013.0, \"Attacks\": 8}, {\"Country\": \"SOUTH AFRICA\", \"Year\": 2014.0, \"Attacks\": 5}, {\"Country\": \"SOUTH AFRICA\", \"Year\": 2015.0, \"Attacks\": 10}, {\"Country\": \"SOUTH AFRICA\", \"Year\": 2016.0, \"Attacks\": 4}, {\"Country\": \"SOUTH AFRICA\", \"Year\": 2017.0, \"Attacks\": 4}, {\"Country\": \"SOUTH AFRICA\", \"Year\": 2018.0, \"Attacks\": 4}, {\"Country\": \"USA\", \"Year\": 1951.0, \"Attacks\": 2}, {\"Country\": \"USA\", \"Year\": 1952.0, \"Attacks\": 11}, {\"Country\": \"USA\", \"Year\": 1953.0, \"Attacks\": 11}, {\"Country\": \"USA\", \"Year\": 1954.0, \"Attacks\": 6}, {\"Country\": \"USA\", \"Year\": 1955.0, \"Attacks\": 12}, {\"Country\": \"USA\", \"Year\": 1956.0, \"Attacks\": 9}, {\"Country\": \"USA\", \"Year\": 1957.0, \"Attacks\": 10}, {\"Country\": \"USA\", \"Year\": 1958.0, \"Attacks\": 15}, {\"Country\": \"USA\", \"Year\": 1959.0, \"Attacks\": 22}, {\"Country\": \"USA\", \"Year\": 1960.0, \"Attacks\": 19}, {\"Country\": \"USA\", \"Year\": 1961.0, \"Attacks\": 14}, {\"Country\": \"USA\", \"Year\": 1962.0, \"Attacks\": 19}, {\"Country\": \"USA\", \"Year\": 1963.0, \"Attacks\": 7}, {\"Country\": \"USA\", \"Year\": 1964.0, \"Attacks\": 10}, {\"Country\": \"USA\", \"Year\": 1965.0, \"Attacks\": 9}, {\"Country\": \"USA\", \"Year\": 1966.0, \"Attacks\": 12}, {\"Country\": \"USA\", \"Year\": 1967.0, \"Attacks\": 7}, {\"Country\": \"USA\", \"Year\": 1968.0, \"Attacks\": 10}, {\"Country\": \"USA\", \"Year\": 1969.0, \"Attacks\": 15}, {\"Country\": \"USA\", \"Year\": 1970.0, \"Attacks\": 8}, {\"Country\": \"USA\", \"Year\": 1971.0, \"Attacks\": 5}, {\"Country\": \"USA\", \"Year\": 1972.0, \"Attacks\": 8}, {\"Country\": \"USA\", \"Year\": 1973.0, \"Attacks\": 4}, {\"Country\": \"USA\", \"Year\": 1974.0, \"Attacks\": 13}, {\"Country\": \"USA\", \"Year\": 1975.0, \"Attacks\": 18}, {\"Country\": \"USA\", \"Year\": 1976.0, \"Attacks\": 17}, {\"Country\": \"USA\", \"Year\": 1977.0, \"Attacks\": 7}, {\"Country\": \"USA\", \"Year\": 1978.0, \"Attacks\": 9}, {\"Country\": \"USA\", \"Year\": 1979.0, \"Attacks\": 8}, {\"Country\": \"USA\", \"Year\": 1980.0, \"Attacks\": 9}, {\"Country\": \"USA\", \"Year\": 1981.0, \"Attacks\": 25}, {\"Country\": \"USA\", \"Year\": 1982.0, \"Attacks\": 18}, {\"Country\": \"USA\", \"Year\": 1983.0, \"Attacks\": 22}, {\"Country\": \"USA\", \"Year\": 1984.0, \"Attacks\": 18}, {\"Country\": \"USA\", \"Year\": 1985.0, \"Attacks\": 18}, {\"Country\": \"USA\", \"Year\": 1986.0, \"Attacks\": 14}, {\"Country\": \"USA\", \"Year\": 1987.0, \"Attacks\": 15}, {\"Country\": \"USA\", \"Year\": 1988.0, \"Attacks\": 25}, {\"Country\": \"USA\", \"Year\": 1989.0, \"Attacks\": 21}, {\"Country\": \"USA\", \"Year\": 1990.0, \"Attacks\": 19}, {\"Country\": \"USA\", \"Year\": 1991.0, \"Attacks\": 22}, {\"Country\": \"USA\", \"Year\": 1992.0, \"Attacks\": 20}, {\"Country\": \"USA\", \"Year\": 1993.0, \"Attacks\": 22}, {\"Country\": \"USA\", \"Year\": 1994.0, \"Attacks\": 23}, {\"Country\": \"USA\", \"Year\": 1995.0, \"Attacks\": 43}, {\"Country\": \"USA\", \"Year\": 1996.0, \"Attacks\": 26}, {\"Country\": \"USA\", \"Year\": 1997.0, \"Attacks\": 27}, {\"Country\": \"USA\", \"Year\": 1998.0, \"Attacks\": 26}, {\"Country\": \"USA\", \"Year\": 1999.0, \"Attacks\": 34}, {\"Country\": \"USA\", \"Year\": 2000.0, \"Attacks\": 49}, {\"Country\": \"USA\", \"Year\": 2001.0, \"Attacks\": 56}, {\"Country\": \"USA\", \"Year\": 2002.0, \"Attacks\": 49}, {\"Country\": \"USA\", \"Year\": 2003.0, \"Attacks\": 51}, {\"Country\": \"USA\", \"Year\": 2004.0, \"Attacks\": 32}, {\"Country\": \"USA\", \"Year\": 2005.0, \"Attacks\": 46}, {\"Country\": \"USA\", \"Year\": 2006.0, \"Attacks\": 51}, {\"Country\": \"USA\", \"Year\": 2007.0, \"Attacks\": 62}, {\"Country\": \"USA\", \"Year\": 2008.0, \"Attacks\": 55}, {\"Country\": \"USA\", \"Year\": 2009.0, \"Attacks\": 36}, {\"Country\": \"USA\", \"Year\": 2010.0, \"Attacks\": 39}, {\"Country\": \"USA\", \"Year\": 2011.0, \"Attacks\": 45}, {\"Country\": \"USA\", \"Year\": 2012.0, \"Attacks\": 61}, {\"Country\": \"USA\", \"Year\": 2013.0, \"Attacks\": 58}, {\"Country\": \"USA\", \"Year\": 2014.0, \"Attacks\": 63}, {\"Country\": \"USA\", \"Year\": 2015.0, \"Attacks\": 66}, {\"Country\": \"USA\", \"Year\": 2016.0, \"Attacks\": 60}, {\"Country\": \"USA\", \"Year\": 2017.0, \"Attacks\": 58}, {\"Country\": \"USA\", \"Year\": 2018.0, \"Attacks\": 9}]}}, {\"mode\": \"vega-lite\"});\n",
       "</script>"
      ],
      "text/plain": [
       "alt.Chart(...)"
      ]
     },
     "execution_count": 21,
     "metadata": {},
     "output_type": "execute_result"
    }
   ],
   "source": [
    "countrylist = ['AUSTRALIA', 'BRAZIL', 'PAPAU NEW GUINEA', 'SOUTH AFRICA', 'USA']\n",
    "country_time = attacks[attacks['Country'].isin(countrylist)]\n",
    "\n",
    "country_time = country_time.groupby(['Country', 'Year']).count().reset_index()\n",
    "country_time.head()\n",
    "country_time = country_time[['Country', 'Year', 'Case Number'  ]]\n",
    "country_time.columns = ['Country', 'Year', 'Attacks']\n",
    "country_time = country_time[country_time['Year'] > 1950]\n",
    "\n",
    "country_time_chart = alt.Chart(country_time, title = 'Shark Attacks by Country Over Time').mark_line().encode(\n",
    "    x = 'Year:O',\n",
    "    y = 'Attacks',\n",
    "    color = 'Country'\n",
    ").configure_range(\n",
    "    category={'scheme': color_scheme}\n",
    ")\n",
    "\n",
    "\n",
    "country_time_chart"
   ]
  },
  {
   "cell_type": "markdown",
   "id": "fc20093c",
   "metadata": {},
   "source": [
    "Of note, the USA - which leads in the number of recorded shark attacks by a fairly large margin, appears to have been fairly consistent with other leading countries, but breaks away fairly dramatically around 1980."
   ]
  },
  {
   "cell_type": "markdown",
   "id": "040cb394",
   "metadata": {},
   "source": [
    "## Shark Attacks by Species\n",
    "\n",
    "When most poeple think of a shark attack, they picture a great white shark - but is this consistent with what the data shows? We can break down the data by species to find out.\n",
    "\n",
    "The data contains a lot of inconsistent species information, with some more obscure shark types only having a few recorded attacks, and some recordings only specifying the size of the shark instead of the species. After looking at the data, 3 species in particular appear to be the most common attackers, so we will focus on those specifically."
   ]
  },
  {
   "cell_type": "code",
   "execution_count": 22,
   "id": "d962efc2",
   "metadata": {
    "scrolled": true
   },
   "outputs": [
    {
     "data": {
      "text/html": [
       "\n",
       "<style>\n",
       "  #altair-viz-82f2aaa13c1240779e0285a875945eca.vega-embed {\n",
       "    width: 100%;\n",
       "    display: flex;\n",
       "  }\n",
       "\n",
       "  #altair-viz-82f2aaa13c1240779e0285a875945eca.vega-embed details,\n",
       "  #altair-viz-82f2aaa13c1240779e0285a875945eca.vega-embed details summary {\n",
       "    position: relative;\n",
       "  }\n",
       "</style>\n",
       "<div id=\"altair-viz-82f2aaa13c1240779e0285a875945eca\"></div>\n",
       "<script type=\"text/javascript\">\n",
       "  var VEGA_DEBUG = (typeof VEGA_DEBUG == \"undefined\") ? {} : VEGA_DEBUG;\n",
       "  (function(spec, embedOpt){\n",
       "    let outputDiv = document.currentScript.previousElementSibling;\n",
       "    if (outputDiv.id !== \"altair-viz-82f2aaa13c1240779e0285a875945eca\") {\n",
       "      outputDiv = document.getElementById(\"altair-viz-82f2aaa13c1240779e0285a875945eca\");\n",
       "    }\n",
       "    const paths = {\n",
       "      \"vega\": \"https://cdn.jsdelivr.net/npm/vega@5?noext\",\n",
       "      \"vega-lib\": \"https://cdn.jsdelivr.net/npm/vega-lib?noext\",\n",
       "      \"vega-lite\": \"https://cdn.jsdelivr.net/npm/vega-lite@5.14.1?noext\",\n",
       "      \"vega-embed\": \"https://cdn.jsdelivr.net/npm/vega-embed@6?noext\",\n",
       "    };\n",
       "\n",
       "    function maybeLoadScript(lib, version) {\n",
       "      var key = `${lib.replace(\"-\", \"\")}_version`;\n",
       "      return (VEGA_DEBUG[key] == version) ?\n",
       "        Promise.resolve(paths[lib]) :\n",
       "        new Promise(function(resolve, reject) {\n",
       "          var s = document.createElement('script');\n",
       "          document.getElementsByTagName(\"head\")[0].appendChild(s);\n",
       "          s.async = true;\n",
       "          s.onload = () => {\n",
       "            VEGA_DEBUG[key] = version;\n",
       "            return resolve(paths[lib]);\n",
       "          };\n",
       "          s.onerror = () => reject(`Error loading script: ${paths[lib]}`);\n",
       "          s.src = paths[lib];\n",
       "        });\n",
       "    }\n",
       "\n",
       "    function showError(err) {\n",
       "      outputDiv.innerHTML = `<div class=\"error\" style=\"color:red;\">${err}</div>`;\n",
       "      throw err;\n",
       "    }\n",
       "\n",
       "    function displayChart(vegaEmbed) {\n",
       "      vegaEmbed(outputDiv, spec, embedOpt)\n",
       "        .catch(err => showError(`Javascript Error: ${err.message}<br>This usually means there's a typo in your chart specification. See the javascript console for the full traceback.`));\n",
       "    }\n",
       "\n",
       "    if(typeof define === \"function\" && define.amd) {\n",
       "      requirejs.config({paths});\n",
       "      require([\"vega-embed\"], displayChart, err => showError(`Error loading script: ${err.message}`));\n",
       "    } else {\n",
       "      maybeLoadScript(\"vega\", \"5\")\n",
       "        .then(() => maybeLoadScript(\"vega-lite\", \"5.14.1\"))\n",
       "        .then(() => maybeLoadScript(\"vega-embed\", \"6\"))\n",
       "        .catch(showError)\n",
       "        .then(() => displayChart(vegaEmbed));\n",
       "    }\n",
       "  })({\"config\": {\"view\": {\"continuousWidth\": 300, \"continuousHeight\": 300}, \"range\": {\"category\": {\"scheme\": [\"#e9dfd7\", \"#c3b8af\", \"#595959\", \"#423d3e\", \"#97bfc5\", \"#799ba0\"]}}}, \"data\": {\"name\": \"data-1a24d224f38a51ffc0d06c391b798254\"}, \"mark\": {\"type\": \"bar\"}, \"encoding\": {\"color\": {\"field\": \"Species\", \"type\": \"nominal\"}, \"x\": {\"field\": \"Species\", \"type\": \"nominal\"}, \"y\": {\"field\": \"Attacks\", \"type\": \"quantitative\"}}, \"$schema\": \"https://vega.github.io/schema/vega-lite/v5.14.1.json\", \"datasets\": {\"data-1a24d224f38a51ffc0d06c391b798254\": [{\"Species\": \"White shark\", \"Attacks\": 154}, {\"Species\": \"Tiger shark\", \"Attacks\": 69}, {\"Species\": \"Bull shark\", \"Attacks\": 46}]}}, {\"mode\": \"vega-lite\"});\n",
       "</script>"
      ],
      "text/plain": [
       "alt.Chart(...)"
      ]
     },
     "execution_count": 22,
     "metadata": {},
     "output_type": "execute_result"
    }
   ],
   "source": [
    "\n",
    "attacks.rename(columns = {'Species ': 'Species'}, inplace = True)\n",
    "\n",
    "\n",
    "shark_species = attacks.value_counts('Species')\n",
    "\n",
    "shark_species = shark_species.to_frame(name = 'Attacks').reset_index()\n",
    "\n",
    "shark_species = shark_species.head(3)\n",
    "species_chart = alt.Chart(shark_species).mark_bar().encode(\n",
    "    x = 'Species',\n",
    "    y = 'Attacks',\n",
    "    color = 'Species'\n",
    ").configure_range(\n",
    "    category={'scheme': color_scheme}\n",
    ")\n",
    "\n",
    "\n",
    "species_chart"
   ]
  },
  {
   "cell_type": "markdown",
   "id": "1bd018a1",
   "metadata": {},
   "source": [
    "Well it turns out that your mental image might be right, with white sharks leading the number of attacks!"
   ]
  },
  {
   "cell_type": "markdown",
   "id": "f640ad65",
   "metadata": {},
   "source": [
    "## Shark Attacks by Sex\n",
    "\n",
    "The data contains information about the sex of the victim, so lets see who has been attacked more frequently - men or women?\n",
    "\n",
    "Note, there are a couple outlier entries other than 'M' or 'F' - these are infrequent and appear to be genuine typos or misentries rather than addititional gender identies, so they will not be included in this visualization."
   ]
  },
  {
   "cell_type": "code",
   "execution_count": 23,
   "id": "dc3c2c0e",
   "metadata": {
    "scrolled": true
   },
   "outputs": [
    {
     "data": {
      "text/html": [
       "\n",
       "<style>\n",
       "  #altair-viz-f80033e2275d490da5f6b5b7523c0e84.vega-embed {\n",
       "    width: 100%;\n",
       "    display: flex;\n",
       "  }\n",
       "\n",
       "  #altair-viz-f80033e2275d490da5f6b5b7523c0e84.vega-embed details,\n",
       "  #altair-viz-f80033e2275d490da5f6b5b7523c0e84.vega-embed details summary {\n",
       "    position: relative;\n",
       "  }\n",
       "</style>\n",
       "<div id=\"altair-viz-f80033e2275d490da5f6b5b7523c0e84\"></div>\n",
       "<script type=\"text/javascript\">\n",
       "  var VEGA_DEBUG = (typeof VEGA_DEBUG == \"undefined\") ? {} : VEGA_DEBUG;\n",
       "  (function(spec, embedOpt){\n",
       "    let outputDiv = document.currentScript.previousElementSibling;\n",
       "    if (outputDiv.id !== \"altair-viz-f80033e2275d490da5f6b5b7523c0e84\") {\n",
       "      outputDiv = document.getElementById(\"altair-viz-f80033e2275d490da5f6b5b7523c0e84\");\n",
       "    }\n",
       "    const paths = {\n",
       "      \"vega\": \"https://cdn.jsdelivr.net/npm/vega@5?noext\",\n",
       "      \"vega-lib\": \"https://cdn.jsdelivr.net/npm/vega-lib?noext\",\n",
       "      \"vega-lite\": \"https://cdn.jsdelivr.net/npm/vega-lite@5.14.1?noext\",\n",
       "      \"vega-embed\": \"https://cdn.jsdelivr.net/npm/vega-embed@6?noext\",\n",
       "    };\n",
       "\n",
       "    function maybeLoadScript(lib, version) {\n",
       "      var key = `${lib.replace(\"-\", \"\")}_version`;\n",
       "      return (VEGA_DEBUG[key] == version) ?\n",
       "        Promise.resolve(paths[lib]) :\n",
       "        new Promise(function(resolve, reject) {\n",
       "          var s = document.createElement('script');\n",
       "          document.getElementsByTagName(\"head\")[0].appendChild(s);\n",
       "          s.async = true;\n",
       "          s.onload = () => {\n",
       "            VEGA_DEBUG[key] = version;\n",
       "            return resolve(paths[lib]);\n",
       "          };\n",
       "          s.onerror = () => reject(`Error loading script: ${paths[lib]}`);\n",
       "          s.src = paths[lib];\n",
       "        });\n",
       "    }\n",
       "\n",
       "    function showError(err) {\n",
       "      outputDiv.innerHTML = `<div class=\"error\" style=\"color:red;\">${err}</div>`;\n",
       "      throw err;\n",
       "    }\n",
       "\n",
       "    function displayChart(vegaEmbed) {\n",
       "      vegaEmbed(outputDiv, spec, embedOpt)\n",
       "        .catch(err => showError(`Javascript Error: ${err.message}<br>This usually means there's a typo in your chart specification. See the javascript console for the full traceback.`));\n",
       "    }\n",
       "\n",
       "    if(typeof define === \"function\" && define.amd) {\n",
       "      requirejs.config({paths});\n",
       "      require([\"vega-embed\"], displayChart, err => showError(`Error loading script: ${err.message}`));\n",
       "    } else {\n",
       "      maybeLoadScript(\"vega\", \"5\")\n",
       "        .then(() => maybeLoadScript(\"vega-lite\", \"5.14.1\"))\n",
       "        .then(() => maybeLoadScript(\"vega-embed\", \"6\"))\n",
       "        .catch(showError)\n",
       "        .then(() => displayChart(vegaEmbed));\n",
       "    }\n",
       "  })({\"config\": {\"view\": {\"continuousWidth\": 300, \"continuousHeight\": 300}, \"range\": {\"category\": {\"scheme\": [\"#e9dfd7\", \"#c3b8af\", \"#595959\", \"#423d3e\", \"#97bfc5\", \"#799ba0\"]}}}, \"data\": {\"name\": \"data-b23e8ead4fc3783ec96f3fda3fb87aeb\"}, \"mark\": {\"type\": \"bar\"}, \"encoding\": {\"color\": {\"field\": \"Sex\", \"type\": \"nominal\"}, \"x\": {\"field\": \"Sex\", \"type\": \"nominal\"}, \"y\": {\"field\": \"Attacks\", \"type\": \"quantitative\"}}, \"$schema\": \"https://vega.github.io/schema/vega-lite/v5.14.1.json\", \"datasets\": {\"data-b23e8ead4fc3783ec96f3fda3fb87aeb\": [{\"Sex\": \"M\", \"Attacks\": 4102}, {\"Sex\": \"F\", \"Attacks\": 541}]}}, {\"mode\": \"vega-lite\"});\n",
       "</script>"
      ],
      "text/plain": [
       "alt.Chart(...)"
      ]
     },
     "execution_count": 23,
     "metadata": {},
     "output_type": "execute_result"
    }
   ],
   "source": [
    "attacks.rename(columns = {'Sex ': 'Sex'}, inplace = True)\n",
    "attacks.columns\n",
    "sex_data = attacks.value_counts('Sex').to_frame(name = 'Attacks').reset_index()\n",
    "\n",
    "sex_data = sex_data[sex_data['Sex'].isin(['M', 'F'])]\n",
    "\n",
    "sex_chart = alt.Chart(sex_data).mark_bar().encode(\n",
    "    \n",
    "    x = 'Sex',\n",
    "    y = 'Attacks',\n",
    "    color = 'Sex'\n",
    "\n",
    ").configure_range(\n",
    "    category={'scheme': color_scheme}\n",
    ")\n",
    "\n",
    "\n",
    "sex_chart"
   ]
  },
  {
   "cell_type": "markdown",
   "id": "73358a14",
   "metadata": {},
   "source": [
    "This is actually fairly surprising. The number of men that have been attacked is around 8X as many as women. This could use some further investigation - are men doing something more likely to cause an attack, or are men just shark-bait?"
   ]
  },
  {
   "cell_type": "markdown",
   "id": "d9f13099",
   "metadata": {},
   "source": [
    "## Shark Attack Fatalities \n",
    "\n",
    "We've looked a lot at the frequency of attacks - but how dangerous are they actually? While certainly no one wants to be attacked by a shark, it would be good to visualize how many attaks have actually been fatal.\n",
    "\n",
    "Again, this will require a bit of data cleanup."
   ]
  },
  {
   "cell_type": "code",
   "execution_count": 24,
   "id": "b8f2897b",
   "metadata": {},
   "outputs": [
    {
     "data": {
      "text/plain": [
       "Fatal (Y/N)\n",
       "N          4002\n",
       "Y          1019\n",
       "UNKNOWN      56\n",
       "dtype: int64"
      ]
     },
     "execution_count": 24,
     "metadata": {},
     "output_type": "execute_result"
    }
   ],
   "source": [
    "attacks.value_counts('Fatal (Y/N)')\n",
    "\n",
    "attacks['Fatal (Y/N)'].replace([' N','N '], 'N', inplace = True)\n",
    "attacks['Fatal (Y/N)'].replace('y', 'Y', inplace = True)\n",
    "attacks['Fatal (Y/N)'].replace(['2017','M'], 'UNKNOWN', inplace = True)\n",
    "\n",
    "attacks.value_counts('Fatal (Y/N)')"
   ]
  },
  {
   "cell_type": "code",
   "execution_count": 25,
   "id": "460d3141",
   "metadata": {},
   "outputs": [
    {
     "data": {
      "text/html": [
       "\n",
       "<style>\n",
       "  #altair-viz-0c3a7ebc6d8b46ed8c265aeafbd30718.vega-embed {\n",
       "    width: 100%;\n",
       "    display: flex;\n",
       "  }\n",
       "\n",
       "  #altair-viz-0c3a7ebc6d8b46ed8c265aeafbd30718.vega-embed details,\n",
       "  #altair-viz-0c3a7ebc6d8b46ed8c265aeafbd30718.vega-embed details summary {\n",
       "    position: relative;\n",
       "  }\n",
       "</style>\n",
       "<div id=\"altair-viz-0c3a7ebc6d8b46ed8c265aeafbd30718\"></div>\n",
       "<script type=\"text/javascript\">\n",
       "  var VEGA_DEBUG = (typeof VEGA_DEBUG == \"undefined\") ? {} : VEGA_DEBUG;\n",
       "  (function(spec, embedOpt){\n",
       "    let outputDiv = document.currentScript.previousElementSibling;\n",
       "    if (outputDiv.id !== \"altair-viz-0c3a7ebc6d8b46ed8c265aeafbd30718\") {\n",
       "      outputDiv = document.getElementById(\"altair-viz-0c3a7ebc6d8b46ed8c265aeafbd30718\");\n",
       "    }\n",
       "    const paths = {\n",
       "      \"vega\": \"https://cdn.jsdelivr.net/npm/vega@5?noext\",\n",
       "      \"vega-lib\": \"https://cdn.jsdelivr.net/npm/vega-lib?noext\",\n",
       "      \"vega-lite\": \"https://cdn.jsdelivr.net/npm/vega-lite@5.14.1?noext\",\n",
       "      \"vega-embed\": \"https://cdn.jsdelivr.net/npm/vega-embed@6?noext\",\n",
       "    };\n",
       "\n",
       "    function maybeLoadScript(lib, version) {\n",
       "      var key = `${lib.replace(\"-\", \"\")}_version`;\n",
       "      return (VEGA_DEBUG[key] == version) ?\n",
       "        Promise.resolve(paths[lib]) :\n",
       "        new Promise(function(resolve, reject) {\n",
       "          var s = document.createElement('script');\n",
       "          document.getElementsByTagName(\"head\")[0].appendChild(s);\n",
       "          s.async = true;\n",
       "          s.onload = () => {\n",
       "            VEGA_DEBUG[key] = version;\n",
       "            return resolve(paths[lib]);\n",
       "          };\n",
       "          s.onerror = () => reject(`Error loading script: ${paths[lib]}`);\n",
       "          s.src = paths[lib];\n",
       "        });\n",
       "    }\n",
       "\n",
       "    function showError(err) {\n",
       "      outputDiv.innerHTML = `<div class=\"error\" style=\"color:red;\">${err}</div>`;\n",
       "      throw err;\n",
       "    }\n",
       "\n",
       "    function displayChart(vegaEmbed) {\n",
       "      vegaEmbed(outputDiv, spec, embedOpt)\n",
       "        .catch(err => showError(`Javascript Error: ${err.message}<br>This usually means there's a typo in your chart specification. See the javascript console for the full traceback.`));\n",
       "    }\n",
       "\n",
       "    if(typeof define === \"function\" && define.amd) {\n",
       "      requirejs.config({paths});\n",
       "      require([\"vega-embed\"], displayChart, err => showError(`Error loading script: ${err.message}`));\n",
       "    } else {\n",
       "      maybeLoadScript(\"vega\", \"5\")\n",
       "        .then(() => maybeLoadScript(\"vega-lite\", \"5.14.1\"))\n",
       "        .then(() => maybeLoadScript(\"vega-embed\", \"6\"))\n",
       "        .catch(showError)\n",
       "        .then(() => displayChart(vegaEmbed));\n",
       "    }\n",
       "  })({\"config\": {\"view\": {\"continuousWidth\": 300, \"continuousHeight\": 300}, \"range\": {\"category\": {\"scheme\": [\"#e9dfd7\", \"#c3b8af\", \"#595959\", \"#423d3e\", \"#97bfc5\", \"#799ba0\"]}}}, \"data\": {\"name\": \"data-9e516a2dd9c1d5ad6f0016680ebf4567\"}, \"mark\": {\"type\": \"arc\", \"outerRadius\": 120}, \"encoding\": {\"color\": {\"field\": \"Fatal (Y/N)\", \"type\": \"nominal\"}, \"theta\": {\"field\": \"Attacks\", \"stack\": true, \"type\": \"quantitative\"}}, \"title\": \"Shark Attack Fatalities\", \"$schema\": \"https://vega.github.io/schema/vega-lite/v5.14.1.json\", \"datasets\": {\"data-9e516a2dd9c1d5ad6f0016680ebf4567\": [{\"Fatal (Y/N)\": \"N\", \"Attacks\": 4002}, {\"Fatal (Y/N)\": \"Y\", \"Attacks\": 1019}, {\"Fatal (Y/N)\": \"UNKNOWN\", \"Attacks\": 56}]}}, {\"mode\": \"vega-lite\"});\n",
       "</script>"
      ],
      "text/plain": [
       "alt.Chart(...)"
      ]
     },
     "execution_count": 25,
     "metadata": {},
     "output_type": "execute_result"
    }
   ],
   "source": [
    "fatal_count = attacks.value_counts('Fatal (Y/N)').to_frame(name = 'Attacks').reset_index()\n",
    "\n",
    "\n",
    "fatal_pie = alt.Chart(fatal_count, title = 'Shark Attack Fatalities').mark_arc(outerRadius = 120).encode(\n",
    "    alt.Theta('Attacks').stack(True),\n",
    "    color = 'Fatal (Y/N)'\n",
    ").configure_range(\n",
    "    category={'scheme': color_scheme}\n",
    ")\n",
    "#text = fatal_pie.mark_text(radius=140, size=20).encode(text=\"Attacks:Q\")\n",
    "\n",
    "fatal_pie #+ text\n"
   ]
  },
  {
   "cell_type": "markdown",
   "id": "dcf3c890",
   "metadata": {},
   "source": [
    "Luckily, it appears that a large majority of shark attacks have actually not been fatal!\n",
    "\n",
    "And finally, since we already saw the 3 sharks responsible for the most attacks, lets see if they are also the most deadly."
   ]
  },
  {
   "cell_type": "code",
   "execution_count": 26,
   "id": "9d1a883c",
   "metadata": {},
   "outputs": [
    {
     "data": {
      "text/html": [
       "\n",
       "<style>\n",
       "  #altair-viz-6505f826b5bc4c3ea752f70c0252f1ce.vega-embed {\n",
       "    width: 100%;\n",
       "    display: flex;\n",
       "  }\n",
       "\n",
       "  #altair-viz-6505f826b5bc4c3ea752f70c0252f1ce.vega-embed details,\n",
       "  #altair-viz-6505f826b5bc4c3ea752f70c0252f1ce.vega-embed details summary {\n",
       "    position: relative;\n",
       "  }\n",
       "</style>\n",
       "<div id=\"altair-viz-6505f826b5bc4c3ea752f70c0252f1ce\"></div>\n",
       "<script type=\"text/javascript\">\n",
       "  var VEGA_DEBUG = (typeof VEGA_DEBUG == \"undefined\") ? {} : VEGA_DEBUG;\n",
       "  (function(spec, embedOpt){\n",
       "    let outputDiv = document.currentScript.previousElementSibling;\n",
       "    if (outputDiv.id !== \"altair-viz-6505f826b5bc4c3ea752f70c0252f1ce\") {\n",
       "      outputDiv = document.getElementById(\"altair-viz-6505f826b5bc4c3ea752f70c0252f1ce\");\n",
       "    }\n",
       "    const paths = {\n",
       "      \"vega\": \"https://cdn.jsdelivr.net/npm/vega@5?noext\",\n",
       "      \"vega-lib\": \"https://cdn.jsdelivr.net/npm/vega-lib?noext\",\n",
       "      \"vega-lite\": \"https://cdn.jsdelivr.net/npm/vega-lite@5.14.1?noext\",\n",
       "      \"vega-embed\": \"https://cdn.jsdelivr.net/npm/vega-embed@6?noext\",\n",
       "    };\n",
       "\n",
       "    function maybeLoadScript(lib, version) {\n",
       "      var key = `${lib.replace(\"-\", \"\")}_version`;\n",
       "      return (VEGA_DEBUG[key] == version) ?\n",
       "        Promise.resolve(paths[lib]) :\n",
       "        new Promise(function(resolve, reject) {\n",
       "          var s = document.createElement('script');\n",
       "          document.getElementsByTagName(\"head\")[0].appendChild(s);\n",
       "          s.async = true;\n",
       "          s.onload = () => {\n",
       "            VEGA_DEBUG[key] = version;\n",
       "            return resolve(paths[lib]);\n",
       "          };\n",
       "          s.onerror = () => reject(`Error loading script: ${paths[lib]}`);\n",
       "          s.src = paths[lib];\n",
       "        });\n",
       "    }\n",
       "\n",
       "    function showError(err) {\n",
       "      outputDiv.innerHTML = `<div class=\"error\" style=\"color:red;\">${err}</div>`;\n",
       "      throw err;\n",
       "    }\n",
       "\n",
       "    function displayChart(vegaEmbed) {\n",
       "      vegaEmbed(outputDiv, spec, embedOpt)\n",
       "        .catch(err => showError(`Javascript Error: ${err.message}<br>This usually means there's a typo in your chart specification. See the javascript console for the full traceback.`));\n",
       "    }\n",
       "\n",
       "    if(typeof define === \"function\" && define.amd) {\n",
       "      requirejs.config({paths});\n",
       "      require([\"vega-embed\"], displayChart, err => showError(`Error loading script: ${err.message}`));\n",
       "    } else {\n",
       "      maybeLoadScript(\"vega\", \"5\")\n",
       "        .then(() => maybeLoadScript(\"vega-lite\", \"5.14.1\"))\n",
       "        .then(() => maybeLoadScript(\"vega-embed\", \"6\"))\n",
       "        .catch(showError)\n",
       "        .then(() => displayChart(vegaEmbed));\n",
       "    }\n",
       "  })({\"config\": {\"view\": {\"continuousWidth\": 300, \"continuousHeight\": 300}, \"range\": {\"category\": {\"scheme\": [\"#e9dfd7\", \"#c3b8af\", \"#595959\", \"#423d3e\", \"#97bfc5\", \"#799ba0\"]}}}, \"data\": {\"name\": \"data-3dd5e15beb06f97bc207eb9e87954848\"}, \"mark\": {\"type\": \"bar\"}, \"encoding\": {\"color\": {\"field\": \"Species\", \"type\": \"nominal\"}, \"x\": {\"field\": \"Species\", \"type\": \"nominal\"}, \"y\": {\"field\": \"Attacks\", \"type\": \"quantitative\"}}, \"title\": \"Shark Species with the Most Fatal Attacks\", \"$schema\": \"https://vega.github.io/schema/vega-lite/v5.14.1.json\", \"datasets\": {\"data-3dd5e15beb06f97bc207eb9e87954848\": [{\"Species\": \"White shark\", \"Attacks\": 43}, {\"Species\": \"Tiger shark\", \"Attacks\": 22}, {\"Species\": \"Bull shark\", \"Attacks\": 13}]}}, {\"mode\": \"vega-lite\"});\n",
       "</script>"
      ],
      "text/plain": [
       "alt.Chart(...)"
      ]
     },
     "execution_count": 26,
     "metadata": {},
     "output_type": "execute_result"
    }
   ],
   "source": [
    "fatal_attack_species = attacks[attacks['Fatal (Y/N)'] == 'Y'].value_counts('Species').to_frame(name = 'Attacks').reset_index()\n",
    "\n",
    "\n",
    "fatal_attack_species_chart = alt.Chart(fatal_attack_species.head(3), title = 'Shark Species with the Most Fatal Attacks').mark_bar().encode(\n",
    "    x = 'Species',\n",
    "    y = 'Attacks',\n",
    "    color = 'Species'\n",
    ").configure_range(\n",
    "    category={'scheme': color_scheme}\n",
    ")\n",
    "\n",
    "fatal_attack_species_chart"
   ]
  },
  {
   "cell_type": "markdown",
   "id": "2acbceb5",
   "metadata": {},
   "source": [
    "As it turns out, not only have White Sharks caused the most recorded attacks - they have also caused the most fatalities. \n",
    "\n",
    "\n",
    "Swim safe everyone!"
   ]
  }
 ],
 "metadata": {
  "kernelspec": {
   "display_name": "Python 3 (ipykernel)",
   "language": "python",
   "name": "python3"
  },
  "language_info": {
   "codemirror_mode": {
    "name": "ipython",
    "version": 3
   },
   "file_extension": ".py",
   "mimetype": "text/x-python",
   "name": "python",
   "nbconvert_exporter": "python",
   "pygments_lexer": "ipython3",
   "version": "3.9.13"
  }
 },
 "nbformat": 4,
 "nbformat_minor": 5
}
